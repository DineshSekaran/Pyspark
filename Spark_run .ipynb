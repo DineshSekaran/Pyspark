{
 "cells": [
  {
   "cell_type": "code",
   "execution_count": 4,
   "id": "8d27a4b3-a000-4ceb-ae64-69a88dea7a93",
   "metadata": {},
   "outputs": [
    {
     "ename": "SyntaxError",
     "evalue": "invalid syntax (398462950.py, line 1)",
     "output_type": "error",
     "traceback": [
      "\u001b[0;36m  Cell \u001b[0;32mIn[4], line 1\u001b[0;36m\u001b[0m\n\u001b[0;31m    spark-submit  --master yarn --deploy-mode cluster SparkFlightAnalytics_v1.py\u001b[0m\n\u001b[0m                           ^\u001b[0m\n\u001b[0;31mSyntaxError\u001b[0m\u001b[0;31m:\u001b[0m invalid syntax\n"
     ]
    }
   ],
   "source": [
    "spark-submit  --master yarn  --deploy-mode cluster --executor-memory 2g --num-executors 3 --driver-memory 2g  --executors-cores 1\n",
    "SparkFlightAnalytics_v1.py"
   ]
  },
  {
   "cell_type": "code",
   "execution_count": null,
   "id": "e6e48891-ee6c-45c6-be61-f64d2185f2bf",
   "metadata": {},
   "outputs": [],
   "source": []
  }
 ],
 "metadata": {
  "kernelspec": {
   "display_name": "PySpark 3",
   "language": "python",
   "name": "pyspark"
  },
  "language_info": {
   "codemirror_mode": {
    "name": "ipython",
    "version": 3
   },
   "file_extension": ".py",
   "mimetype": "text/x-python",
   "name": "python",
   "nbconvert_exporter": "python",
   "pygments_lexer": "ipython3",
   "version": "3.10.14"
  }
 },
 "nbformat": 4,
 "nbformat_minor": 5
}
