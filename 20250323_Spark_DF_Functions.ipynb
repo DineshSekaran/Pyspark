{
 "cells": [
  {
   "cell_type": "markdown",
   "id": "4ac7deb3-1696-49df-b4fb-a69fe34a678b",
   "metadata": {},
   "source": [
    "## Spark Session"
   ]
  },
  {
   "cell_type": "code",
   "execution_count": 1,
   "id": "3779d12f-def8-4ce6-8eef-381308842e89",
   "metadata": {},
   "outputs": [
    {
     "name": "stderr",
     "output_type": "stream",
     "text": [
      "Setting default log level to \"WARN\".\n",
      "To adjust logging level use sc.setLogLevel(newLevel). For SparkR, use setLogLevel(newLevel).\n"
     ]
    }
   ],
   "source": [
    "from pyspark.sql import SparkSession\n",
    "\n",
    "appName = \"BDP DF Functions\"\n",
    "\n",
    "# Create Spark session\n",
    "spark = SparkSession.builder \\\n",
    "    .appName(appName) \\\n",
    "    .getOrCreate()\n"
   ]
  },
  {
   "cell_type": "code",
   "execution_count": null,
   "id": "00550bb7-fa6d-4b3c-932f-36b11c3ee978",
   "metadata": {},
   "outputs": [],
   "source": []
  },
  {
   "cell_type": "markdown",
   "id": "577499d4-326e-4f81-95f4-17929ae301d2",
   "metadata": {},
   "source": [
    "# Spark Parquet Dataset"
   ]
  },
  {
   "cell_type": "code",
   "execution_count": 2,
   "id": "e9101632-548d-4f5a-898e-fb250ac5ebc6",
   "metadata": {},
   "outputs": [],
   "source": [
    "!hdfs dfs -mkdir -p /user/bigdatapedia/input/customer/parquet"
   ]
  },
  {
   "cell_type": "code",
   "execution_count": 3,
   "id": "816b2a87-02b8-46ad-9465-00a5f5587459",
   "metadata": {},
   "outputs": [],
   "source": [
    "!hdfs dfs -put /home/bigdatapedia/data/customer_parq.parquet /user/bigdatapedia/input/customer/parquet/"
   ]
  },
  {
   "cell_type": "code",
   "execution_count": 4,
   "id": "39ae4f26-adc8-4351-a39b-22ab812f7b1b",
   "metadata": {},
   "outputs": [
    {
     "name": "stdout",
     "output_type": "stream",
     "text": [
      "Found 1 items\n",
      "-rw-r--r--   3 bigdatapedia supergroup    248.7 K 2025-03-23 03:49 /user/bigdatapedia/input/customer/parquet/customer_parq.parquet\n"
     ]
    }
   ],
   "source": [
    "!hdfs dfs -ls -h /user/bigdatapedia/input/customer/parquet/"
   ]
  },
  {
   "cell_type": "code",
   "execution_count": 5,
   "id": "5e230a81-614f-4ba4-97c6-c2463b17ce63",
   "metadata": {
    "scrolled": true
   },
   "outputs": [
    {
     "name": "stderr",
     "output_type": "stream",
     "text": [
      "                                                                                \r"
     ]
    }
   ],
   "source": [
    "df_cust = spark.read.parquet(\"/user/bigdatapedia/input/customer/parquet\")"
   ]
  },
  {
   "cell_type": "code",
   "execution_count": 6,
   "id": "da6c8fa0-cc57-4f92-8807-6ef4dca09a00",
   "metadata": {},
   "outputs": [
    {
     "name": "stderr",
     "output_type": "stream",
     "text": [
      "[Stage 1:>                                                          (0 + 1) / 1]\r"
     ]
    },
    {
     "name": "stdout",
     "output_type": "stream",
     "text": [
      "+-----------+--------------+--------------+--------------+-----------------+-----------------------+-------------+--------------+----------------+\n",
      "|customer_id|customer_fname|customer_lname|customer_email|customer_password|customer_street        |customer_city|customer_state|customer_zipcode|\n",
      "+-----------+--------------+--------------+--------------+-----------------+-----------------------+-------------+--------------+----------------+\n",
      "|1          |Richard       |Hernandez     |XXXXXXXXX     |XXXXXXXXX        |6303 Heather Plaza     |Brownsville  |TX            |78521           |\n",
      "|2          |Mary          |Barrett       |XXXXXXXXX     |XXXXXXXXX        |9526 Noble Embers Ridge|Littleton    |CO            |80126           |\n",
      "|3          |Ann           |Smith         |XXXXXXXXX     |XXXXXXXXX        |3422 Blue Pioneer Bend |Caguas       |PR            |00725           |\n",
      "|4          |Mary          |Jones         |XXXXXXXXX     |XXXXXXXXX        |8324 Little Common     |San Marcos   |CA            |92069           |\n",
      "|5          |Robert        |Hudson        |XXXXXXXXX     |XXXXXXXXX        |10 Crystal River Mall  |Caguas       |PR            |00725           |\n",
      "+-----------+--------------+--------------+--------------+-----------------+-----------------------+-------------+--------------+----------------+\n",
      "only showing top 5 rows\n",
      "\n"
     ]
    },
    {
     "name": "stderr",
     "output_type": "stream",
     "text": [
      "                                                                                \r"
     ]
    }
   ],
   "source": [
    "df_cust.show(5,0)"
   ]
  },
  {
   "cell_type": "markdown",
   "id": "f1c2dc22-921a-45d5-8385-86c7877af79e",
   "metadata": {},
   "source": [
    "### Spark BuiltIn Functions"
   ]
  },
  {
   "cell_type": "markdown",
   "id": "e247788b-8875-4340-8d88-1fe652357ccb",
   "metadata": {},
   "source": [
    "#### String Functions"
   ]
  },
  {
   "cell_type": "code",
   "execution_count": 48,
   "id": "08cea5f4-bd90-4033-9fb9-9568c2e36b95",
   "metadata": {},
   "outputs": [],
   "source": [
    "from pyspark.sql.functions import concat_ws, substring, regexp_replace, regexp_extract, instr, "
   ]
  },
  {
   "cell_type": "code",
   "execution_count": 35,
   "id": "c95fbe79-c9be-408a-a3fb-6ef15f000ec1",
   "metadata": {},
   "outputs": [],
   "source": [
    "df_select = df_cust.select(\"customer_id\", \"customer_fname\", \"customer_lname\", \"customer_street\", \"customer_city\", \"customer_state\")"
   ]
  },
  {
   "cell_type": "code",
   "execution_count": 13,
   "id": "f8429784-2f0c-4977-a3d3-54596dfada8b",
   "metadata": {},
   "outputs": [],
   "source": [
    "df_concat = df_select.withColumn(\"FullName\", concat_ws(\" \", df_cust[\"customer_fname\"], df_cust[\"customer_lname\"]))"
   ]
  },
  {
   "cell_type": "code",
   "execution_count": 14,
   "id": "1e436ad6-8b7d-4466-9998-cc6930602942",
   "metadata": {},
   "outputs": [
    {
     "name": "stderr",
     "output_type": "stream",
     "text": [
      "[Stage 3:>                                                          (0 + 1) / 1]\r"
     ]
    },
    {
     "name": "stdout",
     "output_type": "stream",
     "text": [
      "+-----------+--------------+--------------+-------------+--------------+-----------------+\n",
      "|customer_id|customer_fname|customer_lname|customer_city|customer_state|FullName         |\n",
      "+-----------+--------------+--------------+-------------+--------------+-----------------+\n",
      "|1          |Richard       |Hernandez     |Brownsville  |TX            |Richard Hernandez|\n",
      "|2          |Mary          |Barrett       |Littleton    |CO            |Mary Barrett     |\n",
      "|3          |Ann           |Smith         |Caguas       |PR            |Ann Smith        |\n",
      "|4          |Mary          |Jones         |San Marcos   |CA            |Mary Jones       |\n",
      "|5          |Robert        |Hudson        |Caguas       |PR            |Robert Hudson    |\n",
      "+-----------+--------------+--------------+-------------+--------------+-----------------+\n",
      "only showing top 5 rows\n",
      "\n"
     ]
    },
    {
     "name": "stderr",
     "output_type": "stream",
     "text": [
      "                                                                                \r"
     ]
    }
   ],
   "source": [
    "df_concat.show(5,0)"
   ]
  },
  {
   "cell_type": "code",
   "execution_count": 40,
   "id": "be5d4527-2dce-43aa-93f6-5faa886c5535",
   "metadata": {},
   "outputs": [
    {
     "name": "stdout",
     "output_type": "stream",
     "text": [
      "+-----------+--------------+--------------+---------------------------+-------------+--------------+------+\n",
      "|customer_id|customer_fname|customer_lname|customer_street            |customer_city|customer_state|DoorNo|\n",
      "+-----------+--------------+--------------+---------------------------+-------------+--------------+------+\n",
      "|1          |Richard       |Hernandez     |6303 Heather Plaza         |Brownsville  |TX            |6303  |\n",
      "|2          |Mary          |Barrett       |9526 Noble Embers Ridge    |Littleton    |CO            |9526  |\n",
      "|3          |Ann           |Smith         |3422 Blue Pioneer Bend     |Caguas       |PR            |3422  |\n",
      "|4          |Mary          |Jones         |8324 Little Common         |San Marcos   |CA            |8324  |\n",
      "|5          |Robert        |Hudson        |10 Crystal River Mall      |Caguas       |PR            |10 C  |\n",
      "|6          |Mary          |Smith         |3151 Sleepy Quail Promenade|Passaic      |NJ            |3151  |\n",
      "|7          |Melissa       |Wilcox        |9453 High Concession       |Caguas       |PR            |9453  |\n",
      "|8          |Megan         |Smith         |3047 Foggy Forest Plaza    |Lawrence     |MA            |3047  |\n",
      "|9          |Mary          |Perez         |3616 Quaking Street        |Caguas       |PR            |3616  |\n",
      "|10         |Melissa       |Smith         |8598 Harvest Beacon Plaza  |Stafford     |VA            |8598  |\n",
      "+-----------+--------------+--------------+---------------------------+-------------+--------------+------+\n",
      "only showing top 10 rows\n",
      "\n"
     ]
    }
   ],
   "source": [
    "df_select.select(\"*\", substring(\"customer_street\", 1, 4).alias(\"DoorNo\")).show(10,0)"
   ]
  },
  {
   "cell_type": "code",
   "execution_count": 51,
   "id": "a8d6c0ed-0652-4874-9007-ad9a943f0e6b",
   "metadata": {},
   "outputs": [
    {
     "name": "stdout",
     "output_type": "stream",
     "text": [
      "+-----------+--------------+--------------+---------------------------+-------------+--------------+------+\n",
      "|customer_id|customer_fname|customer_lname|customer_street            |customer_city|customer_state|DoorNo|\n",
      "+-----------+--------------+--------------+---------------------------+-------------+--------------+------+\n",
      "|1          |Richard       |Hernandez     |6303 Heather Plaza         |Brownsville  |TX            |0     |\n",
      "|2          |Mary          |Barrett       |9526 Noble Embers Ridge    |Littleton    |CO            |0     |\n",
      "|3          |Ann           |Smith         |3422 Blue Pioneer Bend     |Caguas       |PR            |0     |\n",
      "|4          |Mary          |Jones         |8324 Little Common         |San Marcos   |CA            |0     |\n",
      "|5          |Robert        |Hudson        |10 Crystal River Mall      |Caguas       |PR            |3     |\n",
      "|6          |Mary          |Smith         |3151 Sleepy Quail Promenade|Passaic      |NJ            |0     |\n",
      "|7          |Melissa       |Wilcox        |9453 High Concession       |Caguas       |PR            |0     |\n",
      "|8          |Megan         |Smith         |3047 Foggy Forest Plaza    |Lawrence     |MA            |0     |\n",
      "|9          |Mary          |Perez         |3616 Quaking Street        |Caguas       |PR            |0     |\n",
      "|10         |Melissa       |Smith         |8598 Harvest Beacon Plaza  |Stafford     |VA            |0     |\n",
      "+-----------+--------------+--------------+---------------------------+-------------+--------------+------+\n",
      "only showing top 10 rows\n",
      "\n"
     ]
    }
   ],
   "source": [
    "df_select.select(\"*\", instr(substring(\"customer_street\", 1, 4), \" \").alias(\"DoorNo\")).show(10,0)"
   ]
  },
  {
   "cell_type": "code",
   "execution_count": 47,
   "id": "489007cf-60a1-419e-9b5a-780ffc6fa62d",
   "metadata": {},
   "outputs": [
    {
     "name": "stdout",
     "output_type": "stream",
     "text": [
      "+-----------+--------------+--------------+---------------------------+-------------+--------------+------+\n",
      "|customer_id|customer_fname|customer_lname|customer_street            |customer_city|customer_state|DoorNo|\n",
      "+-----------+--------------+--------------+---------------------------+-------------+--------------+------+\n",
      "|1          |Richard       |Hernandez     |6303 Heather Plaza         |Brownsville  |TX            |6303  |\n",
      "|2          |Mary          |Barrett       |9526 Noble Embers Ridge    |Littleton    |CO            |9526  |\n",
      "|3          |Ann           |Smith         |3422 Blue Pioneer Bend     |Caguas       |PR            |3422  |\n",
      "|4          |Mary          |Jones         |8324 Little Common         |San Marcos   |CA            |8324  |\n",
      "|5          |Robert        |Hudson        |10 Crystal River Mall      |Caguas       |PR            |10    |\n",
      "|6          |Mary          |Smith         |3151 Sleepy Quail Promenade|Passaic      |NJ            |3151  |\n",
      "|7          |Melissa       |Wilcox        |9453 High Concession       |Caguas       |PR            |9453  |\n",
      "|8          |Megan         |Smith         |3047 Foggy Forest Plaza    |Lawrence     |MA            |3047  |\n",
      "|9          |Mary          |Perez         |3616 Quaking Street        |Caguas       |PR            |3616  |\n",
      "|10         |Melissa       |Smith         |8598 Harvest Beacon Plaza  |Stafford     |VA            |8598  |\n",
      "+-----------+--------------+--------------+---------------------------+-------------+--------------+------+\n",
      "only showing top 10 rows\n",
      "\n"
     ]
    },
    {
     "name": "stderr",
     "output_type": "stream",
     "text": [
      "                                                                                \r"
     ]
    }
   ],
   "source": [
    "df_select.select(\"*\", \n",
    "                 regexp_extract(substring(\"customer_street\", 1, 4), \"[0-9]+\", 0).alias(\"DoorNo\")\n",
    "                ).show(10,0)"
   ]
  },
  {
   "cell_type": "code",
   "execution_count": 57,
   "id": "8812f0d1-da34-498a-b285-20d09b79c89c",
   "metadata": {},
   "outputs": [
    {
     "name": "stdout",
     "output_type": "stream",
     "text": [
      "+-----------+--------------+--------------+---------------------------+-------------+--------------+\n",
      "|customer_id|customer_fname|customer_lname|customer_street            |customer_city|customer_state|\n",
      "+-----------+--------------+--------------+---------------------------+-------------+--------------+\n",
      "|1          |Richard       |Hernandez     |xxxx Heather Plaza         |Brownsville  |TX            |\n",
      "|2          |Mary          |Barrett       |xxxx Noble Embers Ridge    |Littleton    |CO            |\n",
      "|3          |Ann           |Smith         |xxxx Blue Pioneer Bend     |Caguas       |PR            |\n",
      "|4          |Mary          |Jones         |xxxx Little Common         |San Marcos   |CA            |\n",
      "|5          |Robert        |Hudson        |xxxx Crystal River Mall    |Caguas       |PR            |\n",
      "|6          |Mary          |Smith         |xxxx Sleepy Quail Promenade|Passaic      |NJ            |\n",
      "|7          |Melissa       |Wilcox        |xxxx High Concession       |Caguas       |PR            |\n",
      "|8          |Megan         |Smith         |xxxx Foggy Forest Plaza    |Lawrence     |MA            |\n",
      "|9          |Mary          |Perez         |xxxx Quaking Street        |Caguas       |PR            |\n",
      "|10         |Melissa       |Smith         |xxxx Harvest Beacon Plaza  |Stafford     |VA            |\n",
      "+-----------+--------------+--------------+---------------------------+-------------+--------------+\n",
      "only showing top 10 rows\n",
      "\n"
     ]
    }
   ],
   "source": [
    "df_select.withColumn(\"customer_street\", regexp_replace(\"customer_street\", \"[0-9]+\", \"xxxx\")\n",
    "                ).show(10,0)"
   ]
  },
  {
   "cell_type": "markdown",
   "id": "81ed9a95-e633-4872-bb90-2ea0e632f8cf",
   "metadata": {},
   "source": [
    "#### Date Functions"
   ]
  },
  {
   "cell_type": "code",
   "execution_count": 20,
   "id": "f6462862-cd69-4f55-aadd-3b866c18c195",
   "metadata": {},
   "outputs": [],
   "source": [
    "from pyspark.sql.functions import current_date, current_timestamp, date_format, date_sub, month, year"
   ]
  },
  {
   "cell_type": "code",
   "execution_count": 18,
   "id": "774d416b-fdf7-4244-8fe6-f2d127b18684",
   "metadata": {},
   "outputs": [],
   "source": [
    "df_curr_date = df_select.withColumn(\"Current_Date\", current_date()).withColumn(\"Current_Time\", current_timestamp())"
   ]
  },
  {
   "cell_type": "code",
   "execution_count": 19,
   "id": "b10c6aeb-3ab7-4eb1-81b2-234e23ac1ada",
   "metadata": {},
   "outputs": [
    {
     "name": "stdout",
     "output_type": "stream",
     "text": [
      "+-----------+--------------+--------------+-------------+--------------+------------+-----------------------+\n",
      "|customer_id|customer_fname|customer_lname|customer_city|customer_state|Current_Date|Current_Time           |\n",
      "+-----------+--------------+--------------+-------------+--------------+------------+-----------------------+\n",
      "|1          |Richard       |Hernandez     |Brownsville  |TX            |2025-03-23  |2025-03-23 03:56:47.325|\n",
      "|2          |Mary          |Barrett       |Littleton    |CO            |2025-03-23  |2025-03-23 03:56:47.325|\n",
      "|3          |Ann           |Smith         |Caguas       |PR            |2025-03-23  |2025-03-23 03:56:47.325|\n",
      "|4          |Mary          |Jones         |San Marcos   |CA            |2025-03-23  |2025-03-23 03:56:47.325|\n",
      "|5          |Robert        |Hudson        |Caguas       |PR            |2025-03-23  |2025-03-23 03:56:47.325|\n",
      "+-----------+--------------+--------------+-------------+--------------+------------+-----------------------+\n",
      "only showing top 5 rows\n",
      "\n"
     ]
    }
   ],
   "source": [
    "df_curr_date.show(5,0)"
   ]
  },
  {
   "cell_type": "code",
   "execution_count": 26,
   "id": "17f4ef0b-9d03-4e1b-9104-36adc73b5363",
   "metadata": {},
   "outputs": [],
   "source": [
    "df_format = df_curr_date.select(date_format(\"Current_Time\", \"dd-MMM-yy\"))"
   ]
  },
  {
   "cell_type": "code",
   "execution_count": 27,
   "id": "624cb6b3-4e5c-458b-abb4-02c27e88f28b",
   "metadata": {},
   "outputs": [
    {
     "name": "stdout",
     "output_type": "stream",
     "text": [
      "+------------------------------------+\n",
      "|date_format(Current_Time, dd-MMM-yy)|\n",
      "+------------------------------------+\n",
      "|23-Mar-25                           |\n",
      "|23-Mar-25                           |\n",
      "|23-Mar-25                           |\n",
      "|23-Mar-25                           |\n",
      "|23-Mar-25                           |\n",
      "+------------------------------------+\n",
      "only showing top 5 rows\n",
      "\n"
     ]
    }
   ],
   "source": [
    "df_format.show(5,0)"
   ]
  },
  {
   "cell_type": "code",
   "execution_count": 28,
   "id": "f339083c-e3de-48bd-8e6d-f9d9dc762325",
   "metadata": {},
   "outputs": [],
   "source": [
    "df_minus_one = df_curr_date.withColumn(\"day_before\", date_sub(\"Current_Date\", 1))"
   ]
  },
  {
   "cell_type": "code",
   "execution_count": 29,
   "id": "bfbf9f95-7a73-4022-9cda-b5182388803b",
   "metadata": {},
   "outputs": [
    {
     "name": "stdout",
     "output_type": "stream",
     "text": [
      "+-----------+--------------+--------------+-------------+--------------+------------+-----------------------+----------+\n",
      "|customer_id|customer_fname|customer_lname|customer_city|customer_state|Current_Date|Current_Time           |day_before|\n",
      "+-----------+--------------+--------------+-------------+--------------+------------+-----------------------+----------+\n",
      "|1          |Richard       |Hernandez     |Brownsville  |TX            |2025-03-23  |2025-03-23 04:01:44.837|2025-03-22|\n",
      "|2          |Mary          |Barrett       |Littleton    |CO            |2025-03-23  |2025-03-23 04:01:44.837|2025-03-22|\n",
      "|3          |Ann           |Smith         |Caguas       |PR            |2025-03-23  |2025-03-23 04:01:44.837|2025-03-22|\n",
      "|4          |Mary          |Jones         |San Marcos   |CA            |2025-03-23  |2025-03-23 04:01:44.837|2025-03-22|\n",
      "|5          |Robert        |Hudson        |Caguas       |PR            |2025-03-23  |2025-03-23 04:01:44.837|2025-03-22|\n",
      "+-----------+--------------+--------------+-------------+--------------+------------+-----------------------+----------+\n",
      "only showing top 5 rows\n",
      "\n"
     ]
    }
   ],
   "source": [
    "df_minus_one.show(5,0)"
   ]
  },
  {
   "cell_type": "code",
   "execution_count": 31,
   "id": "21a7c7d6-00a3-43c2-9584-8959ffcff751",
   "metadata": {},
   "outputs": [],
   "source": [
    "df_minus_one_nf = df_curr_date.withColumn(\"day_before\", df_curr_date[\"Current_Date\"] - 1)"
   ]
  },
  {
   "cell_type": "code",
   "execution_count": 32,
   "id": "adeb3be9-42c7-4b3c-87ab-0a9b2db3c7e1",
   "metadata": {},
   "outputs": [
    {
     "name": "stdout",
     "output_type": "stream",
     "text": [
      "+-----------+--------------+--------------+-------------+--------------+------------+-----------------------+----------+\n",
      "|customer_id|customer_fname|customer_lname|customer_city|customer_state|Current_Date|Current_Time           |day_before|\n",
      "+-----------+--------------+--------------+-------------+--------------+------------+-----------------------+----------+\n",
      "|1          |Richard       |Hernandez     |Brownsville  |TX            |2025-03-23  |2025-03-23 04:04:47.838|2025-03-22|\n",
      "|2          |Mary          |Barrett       |Littleton    |CO            |2025-03-23  |2025-03-23 04:04:47.838|2025-03-22|\n",
      "|3          |Ann           |Smith         |Caguas       |PR            |2025-03-23  |2025-03-23 04:04:47.838|2025-03-22|\n",
      "|4          |Mary          |Jones         |San Marcos   |CA            |2025-03-23  |2025-03-23 04:04:47.838|2025-03-22|\n",
      "|5          |Robert        |Hudson        |Caguas       |PR            |2025-03-23  |2025-03-23 04:04:47.838|2025-03-22|\n",
      "+-----------+--------------+--------------+-------------+--------------+------------+-----------------------+----------+\n",
      "only showing top 5 rows\n",
      "\n"
     ]
    }
   ],
   "source": [
    "df_minus_one_nf.show(5,0)"
   ]
  },
  {
   "cell_type": "markdown",
   "id": "258389bd-a12f-4a2e-ae61-678532b165c7",
   "metadata": {},
   "source": [
    "#### Case When"
   ]
  },
  {
   "cell_type": "code",
   "execution_count": 58,
   "id": "258920bf-2533-4d00-b061-ca6538bee9ae",
   "metadata": {},
   "outputs": [
    {
     "name": "stdout",
     "output_type": "stream",
     "text": [
      "+-----------+--------------+--------------+-----------------------+-------------+--------------+\n",
      "|customer_id|customer_fname|customer_lname|customer_street        |customer_city|customer_state|\n",
      "+-----------+--------------+--------------+-----------------------+-------------+--------------+\n",
      "|1          |Richard       |Hernandez     |6303 Heather Plaza     |Brownsville  |TX            |\n",
      "|2          |Mary          |Barrett       |9526 Noble Embers Ridge|Littleton    |CO            |\n",
      "|3          |Ann           |Smith         |3422 Blue Pioneer Bend |Caguas       |PR            |\n",
      "|4          |Mary          |Jones         |8324 Little Common     |San Marcos   |CA            |\n",
      "|5          |Robert        |Hudson        |10 Crystal River Mall  |Caguas       |PR            |\n",
      "+-----------+--------------+--------------+-----------------------+-------------+--------------+\n",
      "only showing top 5 rows\n",
      "\n"
     ]
    }
   ],
   "source": [
    "df_select.show(5,0)"
   ]
  },
  {
   "cell_type": "code",
   "execution_count": 60,
   "id": "2a688c76-da80-44be-8aca-19199a1a4441",
   "metadata": {},
   "outputs": [],
   "source": [
    "from pyspark.sql.functions import when"
   ]
  },
  {
   "cell_type": "code",
   "execution_count": 66,
   "id": "99b9df6a-02c6-4743-ae2d-a8b653827643",
   "metadata": {},
   "outputs": [],
   "source": [
    "df_case = df_select.withColumn(\"is_it_tx\", \n",
    "                               when(df_select[\"customer_state\"]==\"TX\", \"TX\").\n",
    "                               when(df_select[\"customer_state\"]==\"CO\", \"CO\").otherwise(\"Non-CO/TX\"))"
   ]
  },
  {
   "cell_type": "code",
   "execution_count": 67,
   "id": "269ae6b1-62b1-4c07-9844-a381e8ce142c",
   "metadata": {},
   "outputs": [
    {
     "name": "stdout",
     "output_type": "stream",
     "text": [
      "+-----------+--------------+--------------+-----------------------+-------------+--------------+---------+\n",
      "|customer_id|customer_fname|customer_lname|customer_street        |customer_city|customer_state|is_it_tx |\n",
      "+-----------+--------------+--------------+-----------------------+-------------+--------------+---------+\n",
      "|1          |Richard       |Hernandez     |6303 Heather Plaza     |Brownsville  |TX            |TX       |\n",
      "|2          |Mary          |Barrett       |9526 Noble Embers Ridge|Littleton    |CO            |CO       |\n",
      "|3          |Ann           |Smith         |3422 Blue Pioneer Bend |Caguas       |PR            |Non-CO/TX|\n",
      "|4          |Mary          |Jones         |8324 Little Common     |San Marcos   |CA            |Non-CO/TX|\n",
      "|5          |Robert        |Hudson        |10 Crystal River Mall  |Caguas       |PR            |Non-CO/TX|\n",
      "+-----------+--------------+--------------+-----------------------+-------------+--------------+---------+\n",
      "only showing top 5 rows\n",
      "\n"
     ]
    }
   ],
   "source": [
    "df_case.show(5,0)"
   ]
  },
  {
   "cell_type": "markdown",
   "id": "842eda66-4bbc-4950-b20c-c2a27d07330b",
   "metadata": {},
   "source": [
    "#### Ranking"
   ]
  },
  {
   "cell_type": "code",
   "execution_count": 82,
   "id": "349777de-0d22-4dcc-ac65-93346b0a25fd",
   "metadata": {},
   "outputs": [],
   "source": [
    "from pyspark.sql import Window\n",
    "from pyspark.sql.functions import dense_rank, rank, row_number"
   ]
  },
  {
   "cell_type": "code",
   "execution_count": 70,
   "id": "1e8e3dd3-4678-4e61-be52-bacac56ce219",
   "metadata": {},
   "outputs": [
    {
     "name": "stdout",
     "output_type": "stream",
     "text": [
      "+-----------+--------------+--------------+---------------------------+-------------+--------------+------+\n",
      "|customer_id|customer_fname|customer_lname|customer_street            |customer_city|customer_state|DoorNo|\n",
      "+-----------+--------------+--------------+---------------------------+-------------+--------------+------+\n",
      "|1          |Richard       |Hernandez     |6303 Heather Plaza         |Brownsville  |TX            |6303  |\n",
      "|2          |Mary          |Barrett       |9526 Noble Embers Ridge    |Littleton    |CO            |9526  |\n",
      "|3          |Ann           |Smith         |3422 Blue Pioneer Bend     |Caguas       |PR            |3422  |\n",
      "|4          |Mary          |Jones         |8324 Little Common         |San Marcos   |CA            |8324  |\n",
      "|5          |Robert        |Hudson        |10 Crystal River Mall      |Caguas       |PR            |10    |\n",
      "|6          |Mary          |Smith         |3151 Sleepy Quail Promenade|Passaic      |NJ            |3151  |\n",
      "|7          |Melissa       |Wilcox        |9453 High Concession       |Caguas       |PR            |9453  |\n",
      "|8          |Megan         |Smith         |3047 Foggy Forest Plaza    |Lawrence     |MA            |3047  |\n",
      "|9          |Mary          |Perez         |3616 Quaking Street        |Caguas       |PR            |3616  |\n",
      "|10         |Melissa       |Smith         |8598 Harvest Beacon Plaza  |Stafford     |VA            |8598  |\n",
      "+-----------+--------------+--------------+---------------------------+-------------+--------------+------+\n",
      "only showing top 10 rows\n",
      "\n"
     ]
    }
   ],
   "source": [
    "df_regex = df_select.select(\"*\", \n",
    "                 regexp_extract(substring(\"customer_street\", 1, 4), \"[0-9]+\", 0).alias(\"DoorNo\")\n",
    "                )\n",
    "\n",
    "df_regex.show(10,0)"
   ]
  },
  {
   "cell_type": "code",
   "execution_count": 76,
   "id": "04c36a12-4ffe-49e0-89be-9661babb44c9",
   "metadata": {},
   "outputs": [],
   "source": [
    "windowing = Window.orderBy(\"DoorNo\")"
   ]
  },
  {
   "cell_type": "code",
   "execution_count": 78,
   "id": "683fd94f-84c9-4a6d-902d-e7a28996ee7a",
   "metadata": {},
   "outputs": [
    {
     "name": "stderr",
     "output_type": "stream",
     "text": [
      "25/03/23 04:39:01 WARN window.WindowExec: No Partition Defined for Window operation! Moving all data to a single partition, this can cause serious performance degradation.\n",
      "[Stage 32:>                                                         (0 + 1) / 1]\r"
     ]
    },
    {
     "name": "stdout",
     "output_type": "stream",
     "text": [
      "+-----------+--------------+--------------+------------------------+-------------+--------------+------+---------+\n",
      "|customer_id|customer_fname|customer_lname|customer_street         |customer_city|customer_state|DoorNo|denseRank|\n",
      "+-----------+--------------+--------------+------------------------+-------------+--------------+------+---------+\n",
      "|2883       |Christine     |Smith         |1 Crystal Gate          |Sheboygan    |WI            |1     |1        |\n",
      "|4647       |Mary          |Smith         |1 Crystal Gate          |Caguas       |PR            |1     |1        |\n",
      "|7494       |Rebecca       |Moore         |1 Crystal Gate          |Caguas       |PR            |1     |1        |\n",
      "|10276      |Mary          |Gutierrez     |1 Foggy Freeway         |Rego Park    |NY            |1     |1        |\n",
      "|10296      |Mary          |Ramos         |1 Bright Manor          |Caguas       |PR            |1     |1        |\n",
      "|5          |Robert        |Hudson        |10 Crystal River Mall   |Caguas       |PR            |10    |2        |\n",
      "|1593       |Nicholas      |Summers       |10 Pleasant Prairie Link|Wilkes Barre |PA            |10    |2        |\n",
      "|6541       |Susan         |Smith         |10 Tawny Brook Canyon   |Brentwood    |NY            |10    |2        |\n",
      "|7080       |Jean          |Hoffman       |10 Crystal River Mall   |Washington   |DC            |10    |2        |\n",
      "|8085       |John          |Farmer        |10 Crystal River Mall   |Caguas       |PR            |10    |2        |\n",
      "+-----------+--------------+--------------+------------------------+-------------+--------------+------+---------+\n",
      "only showing top 10 rows\n",
      "\n"
     ]
    },
    {
     "name": "stderr",
     "output_type": "stream",
     "text": [
      "                                                                                \r"
     ]
    }
   ],
   "source": [
    "df_regex.withColumn(\"denseRank\", dense_rank().over(windowing)).show(10, 0)"
   ]
  },
  {
   "cell_type": "code",
   "execution_count": 80,
   "id": "afc4eb6b-7867-4ca0-93ca-a87997df6096",
   "metadata": {},
   "outputs": [
    {
     "name": "stderr",
     "output_type": "stream",
     "text": [
      "25/03/23 04:39:49 WARN window.WindowExec: No Partition Defined for Window operation! Moving all data to a single partition, this can cause serious performance degradation.\n",
      "[Stage 34:>                                                         (0 + 1) / 1]\r"
     ]
    },
    {
     "name": "stdout",
     "output_type": "stream",
     "text": [
      "+-----------+--------------+--------------+------------------------+-------------+--------------+------+-------+\n",
      "|customer_id|customer_fname|customer_lname|customer_street         |customer_city|customer_state|DoorNo|Ranking|\n",
      "+-----------+--------------+--------------+------------------------+-------------+--------------+------+-------+\n",
      "|2883       |Christine     |Smith         |1 Crystal Gate          |Sheboygan    |WI            |1     |1      |\n",
      "|4647       |Mary          |Smith         |1 Crystal Gate          |Caguas       |PR            |1     |1      |\n",
      "|7494       |Rebecca       |Moore         |1 Crystal Gate          |Caguas       |PR            |1     |1      |\n",
      "|10276      |Mary          |Gutierrez     |1 Foggy Freeway         |Rego Park    |NY            |1     |1      |\n",
      "|10296      |Mary          |Ramos         |1 Bright Manor          |Caguas       |PR            |1     |1      |\n",
      "|5          |Robert        |Hudson        |10 Crystal River Mall   |Caguas       |PR            |10    |6      |\n",
      "|1593       |Nicholas      |Summers       |10 Pleasant Prairie Link|Wilkes Barre |PA            |10    |6      |\n",
      "|6541       |Susan         |Smith         |10 Tawny Brook Canyon   |Brentwood    |NY            |10    |6      |\n",
      "|7080       |Jean          |Hoffman       |10 Crystal River Mall   |Washington   |DC            |10    |6      |\n",
      "|8085       |John          |Farmer        |10 Crystal River Mall   |Caguas       |PR            |10    |6      |\n",
      "+-----------+--------------+--------------+------------------------+-------------+--------------+------+-------+\n",
      "only showing top 10 rows\n",
      "\n"
     ]
    },
    {
     "name": "stderr",
     "output_type": "stream",
     "text": [
      "                                                                                \r"
     ]
    }
   ],
   "source": [
    "df_regex.withColumn(\"Ranking\", rank().over(windowing)).show(10, 0)"
   ]
  },
  {
   "cell_type": "code",
   "execution_count": 81,
   "id": "65a17884-8056-456d-b7c5-c4254f55d6f0",
   "metadata": {},
   "outputs": [
    {
     "name": "stderr",
     "output_type": "stream",
     "text": [
      "25/03/23 04:41:01 WARN window.WindowExec: No Partition Defined for Window operation! Moving all data to a single partition, this can cause serious performance degradation.\n"
     ]
    },
    {
     "name": "stdout",
     "output_type": "stream",
     "text": [
      "+-----------+--------------+--------------+------------------------+-------------+--------------+------+-------+\n",
      "|customer_id|customer_fname|customer_lname|customer_street         |customer_city|customer_state|DoorNo|Ranking|\n",
      "+-----------+--------------+--------------+------------------------+-------------+--------------+------+-------+\n",
      "|2883       |Christine     |Smith         |1 Crystal Gate          |Sheboygan    |WI            |1     |1      |\n",
      "|4647       |Mary          |Smith         |1 Crystal Gate          |Caguas       |PR            |1     |1      |\n",
      "|7494       |Rebecca       |Moore         |1 Crystal Gate          |Caguas       |PR            |1     |1      |\n",
      "|10276      |Mary          |Gutierrez     |1 Foggy Freeway         |Rego Park    |NY            |1     |1      |\n",
      "|10296      |Mary          |Ramos         |1 Bright Manor          |Caguas       |PR            |1     |1      |\n",
      "|5          |Robert        |Hudson        |10 Crystal River Mall   |Caguas       |PR            |10    |6      |\n",
      "|1593       |Nicholas      |Summers       |10 Pleasant Prairie Link|Wilkes Barre |PA            |10    |6      |\n",
      "|6541       |Susan         |Smith         |10 Tawny Brook Canyon   |Brentwood    |NY            |10    |6      |\n",
      "|7080       |Jean          |Hoffman       |10 Crystal River Mall   |Washington   |DC            |10    |6      |\n",
      "|8085       |John          |Farmer        |10 Crystal River Mall   |Caguas       |PR            |10    |6      |\n",
      "+-----------+--------------+--------------+------------------------+-------------+--------------+------+-------+\n",
      "only showing top 10 rows\n",
      "\n"
     ]
    }
   ],
   "source": [
    "df_regex.withColumn(\"Ranking\", rank().over(Window.orderBy(\"DoorNo\"))).show(10, 0)"
   ]
  },
  {
   "cell_type": "code",
   "execution_count": 83,
   "id": "0e604004-43ef-49a8-a834-029e6e22c8d2",
   "metadata": {},
   "outputs": [
    {
     "name": "stderr",
     "output_type": "stream",
     "text": [
      "25/03/23 04:42:21 WARN window.WindowExec: No Partition Defined for Window operation! Moving all data to a single partition, this can cause serious performance degradation.\n"
     ]
    },
    {
     "name": "stdout",
     "output_type": "stream",
     "text": [
      "+-----------+--------------+--------------+------------------------+-------------+--------------+------+---------+\n",
      "|customer_id|customer_fname|customer_lname|customer_street         |customer_city|customer_state|DoorNo|RowNumber|\n",
      "+-----------+--------------+--------------+------------------------+-------------+--------------+------+---------+\n",
      "|2883       |Christine     |Smith         |1 Crystal Gate          |Sheboygan    |WI            |1     |1        |\n",
      "|4647       |Mary          |Smith         |1 Crystal Gate          |Caguas       |PR            |1     |2        |\n",
      "|7494       |Rebecca       |Moore         |1 Crystal Gate          |Caguas       |PR            |1     |3        |\n",
      "|10276      |Mary          |Gutierrez     |1 Foggy Freeway         |Rego Park    |NY            |1     |4        |\n",
      "|10296      |Mary          |Ramos         |1 Bright Manor          |Caguas       |PR            |1     |5        |\n",
      "|5          |Robert        |Hudson        |10 Crystal River Mall   |Caguas       |PR            |10    |6        |\n",
      "|1593       |Nicholas      |Summers       |10 Pleasant Prairie Link|Wilkes Barre |PA            |10    |7        |\n",
      "|6541       |Susan         |Smith         |10 Tawny Brook Canyon   |Brentwood    |NY            |10    |8        |\n",
      "|7080       |Jean          |Hoffman       |10 Crystal River Mall   |Washington   |DC            |10    |9        |\n",
      "|8085       |John          |Farmer        |10 Crystal River Mall   |Caguas       |PR            |10    |10       |\n",
      "+-----------+--------------+--------------+------------------------+-------------+--------------+------+---------+\n",
      "only showing top 10 rows\n",
      "\n"
     ]
    }
   ],
   "source": [
    "df_regex.withColumn(\"RowNumber\", row_number().over(windowing)).show(10,0)"
   ]
  },
  {
   "cell_type": "code",
   "execution_count": 85,
   "id": "a4d14514-c565-4028-bf02-b3f76d172a72",
   "metadata": {},
   "outputs": [
    {
     "name": "stderr",
     "output_type": "stream",
     "text": [
      "                                                                                \r"
     ]
    },
    {
     "name": "stdout",
     "output_type": "stream",
     "text": [
      "+-----------+--------------+--------------+---------------------------+-------------+--------------+------+-------+\n",
      "|customer_id|customer_fname|customer_lname|customer_street            |customer_city|customer_state|DoorNo|Ranking|\n",
      "+-----------+--------------+--------------+---------------------------+-------------+--------------+------+-------+\n",
      "|2544       |Mary          |Smith         |2905 Quiet River Trail     |Hanover      |PA            |2905  |1      |\n",
      "|6108       |Emma          |Smith         |3722 Red Hickory Path      |Hanover      |PA            |3722  |2      |\n",
      "|10693      |Andrea        |Sparks        |3993 Pleasant Beach        |Hanover      |PA            |3993  |3      |\n",
      "|147        |Mary          |Smith         |443 Jagged Lane            |Hanover      |PA            |443   |4      |\n",
      "|9008       |Ann           |Smith         |5795 Lazy View Concession  |Hanover      |PA            |5795  |5      |\n",
      "|8612       |Emma          |Smith         |7041 Rustic Pathway        |Hanover      |PA            |7041  |6      |\n",
      "|4650       |Mary          |Smith         |7683 Sunny Sky Field       |Hanover      |PA            |7683  |7      |\n",
      "|7783       |Amy           |Kent          |8598 Harvest Beacon Plaza  |Hanover      |PA            |8598  |8      |\n",
      "|2705       |Mary          |Smith         |8679 Dusty Creek Place     |Hanover      |PA            |8679  |9      |\n",
      "|9040       |Mary          |Smith         |1631 Little Hill           |Bowling Green|KY            |1631  |1      |\n",
      "|2750       |George        |Mason         |5393 Silent Landing        |Bowling Green|KY            |5393  |2      |\n",
      "|11492      |Evelyn        |Allen         |5803 Pleasant Abbey        |Bowling Green|KY            |5803  |3      |\n",
      "|12351      |Jose          |Deleon        |6528 Round Private         |Bowling Green|KY            |6528  |4      |\n",
      "|7899       |Donald        |Tran          |6699 Heather Prairie Villas|Bowling Green|KY            |6699  |5      |\n",
      "|9198       |David         |Kerr          |7312 Crystal Willow Villas |Bowling Green|KY            |7312  |6      |\n",
      "+-----------+--------------+--------------+---------------------------+-------------+--------------+------+-------+\n",
      "only showing top 15 rows\n",
      "\n"
     ]
    }
   ],
   "source": [
    "df_regex.withColumn(\"Ranking\", rank().over(Window.partitionBy(\"customer_city\").orderBy(\"DoorNo\"))).show(15, 0)"
   ]
  },
  {
   "cell_type": "markdown",
   "id": "365dccc0-0385-4618-8a77-f1ba66bd0649",
   "metadata": {},
   "source": [
    "#### UDF"
   ]
  },
  {
   "cell_type": "code",
   "execution_count": 86,
   "id": "a77a0217-50e1-47dd-afdd-17e61874405d",
   "metadata": {},
   "outputs": [],
   "source": [
    "from pyspark.sql.functions import udf"
   ]
  },
  {
   "cell_type": "code",
   "execution_count": 87,
   "id": "27086e40-8e52-4832-8627-cd464ba74a2d",
   "metadata": {},
   "outputs": [
    {
     "name": "stdout",
     "output_type": "stream",
     "text": [
      "+-----------+--------------+--------------+---------------------------+-------------+--------------+\n",
      "|customer_id|customer_fname|customer_lname|customer_street            |customer_city|customer_state|\n",
      "+-----------+--------------+--------------+---------------------------+-------------+--------------+\n",
      "|1          |Richard       |Hernandez     |6303 Heather Plaza         |Brownsville  |TX            |\n",
      "|2          |Mary          |Barrett       |9526 Noble Embers Ridge    |Littleton    |CO            |\n",
      "|3          |Ann           |Smith         |3422 Blue Pioneer Bend     |Caguas       |PR            |\n",
      "|4          |Mary          |Jones         |8324 Little Common         |San Marcos   |CA            |\n",
      "|5          |Robert        |Hudson        |10 Crystal River Mall      |Caguas       |PR            |\n",
      "|6          |Mary          |Smith         |3151 Sleepy Quail Promenade|Passaic      |NJ            |\n",
      "|7          |Melissa       |Wilcox        |9453 High Concession       |Caguas       |PR            |\n",
      "|8          |Megan         |Smith         |3047 Foggy Forest Plaza    |Lawrence     |MA            |\n",
      "|9          |Mary          |Perez         |3616 Quaking Street        |Caguas       |PR            |\n",
      "|10         |Melissa       |Smith         |8598 Harvest Beacon Plaza  |Stafford     |VA            |\n",
      "+-----------+--------------+--------------+---------------------------+-------------+--------------+\n",
      "only showing top 10 rows\n",
      "\n"
     ]
    }
   ],
   "source": [
    "df_select.show(10,0)"
   ]
  },
  {
   "cell_type": "code",
   "execution_count": 88,
   "id": "63f61bfd-dcdd-410b-89c1-1ae5e7e66a43",
   "metadata": {},
   "outputs": [],
   "source": [
    "def upperConvert(x):\n",
    "    return x.upper()"
   ]
  },
  {
   "cell_type": "code",
   "execution_count": 89,
   "id": "ac85b449-2f61-4313-8d5d-35183c7577ab",
   "metadata": {},
   "outputs": [
    {
     "data": {
      "text/plain": [
       "'HELLO'"
      ]
     },
     "execution_count": 89,
     "metadata": {},
     "output_type": "execute_result"
    }
   ],
   "source": [
    "upperConvert(\"hello\")"
   ]
  },
  {
   "cell_type": "code",
   "execution_count": 90,
   "id": "a1b8af5f-a592-4e5e-b5f6-24fac07260ef",
   "metadata": {},
   "outputs": [],
   "source": [
    "upper_UDF = udf(lambda y: upperConvert(y))"
   ]
  },
  {
   "cell_type": "code",
   "execution_count": 91,
   "id": "52ee2c17-4b93-4fda-b4e1-fdee82ada593",
   "metadata": {},
   "outputs": [
    {
     "name": "stderr",
     "output_type": "stream",
     "text": [
      "[Stage 48:>                                                         (0 + 1) / 1]\r"
     ]
    },
    {
     "name": "stdout",
     "output_type": "stream",
     "text": [
      "+-----------+--------------+--------------+---------------------------+-------------+--------------+-----------+\n",
      "|customer_id|customer_fname|customer_lname|customer_street            |customer_city|customer_state|Upper_Fname|\n",
      "+-----------+--------------+--------------+---------------------------+-------------+--------------+-----------+\n",
      "|1          |Richard       |Hernandez     |6303 Heather Plaza         |Brownsville  |TX            |RICHARD    |\n",
      "|2          |Mary          |Barrett       |9526 Noble Embers Ridge    |Littleton    |CO            |MARY       |\n",
      "|3          |Ann           |Smith         |3422 Blue Pioneer Bend     |Caguas       |PR            |ANN        |\n",
      "|4          |Mary          |Jones         |8324 Little Common         |San Marcos   |CA            |MARY       |\n",
      "|5          |Robert        |Hudson        |10 Crystal River Mall      |Caguas       |PR            |ROBERT     |\n",
      "|6          |Mary          |Smith         |3151 Sleepy Quail Promenade|Passaic      |NJ            |MARY       |\n",
      "|7          |Melissa       |Wilcox        |9453 High Concession       |Caguas       |PR            |MELISSA    |\n",
      "|8          |Megan         |Smith         |3047 Foggy Forest Plaza    |Lawrence     |MA            |MEGAN      |\n",
      "|9          |Mary          |Perez         |3616 Quaking Street        |Caguas       |PR            |MARY       |\n",
      "|10         |Melissa       |Smith         |8598 Harvest Beacon Plaza  |Stafford     |VA            |MELISSA    |\n",
      "+-----------+--------------+--------------+---------------------------+-------------+--------------+-----------+\n",
      "only showing top 10 rows\n",
      "\n"
     ]
    },
    {
     "name": "stderr",
     "output_type": "stream",
     "text": [
      "                                                                                \r"
     ]
    }
   ],
   "source": [
    "df_select.withColumn(\"Upper_Fname\", upper_UDF(\"customer_fname\")).show(10,0)"
   ]
  },
  {
   "cell_type": "code",
   "execution_count": null,
   "id": "215cbd51-4633-4bec-874b-647e956e120d",
   "metadata": {},
   "outputs": [],
   "source": []
  }
 ],
 "metadata": {
  "kernelspec": {
   "display_name": "PySpark 3",
   "language": "python",
   "name": "pyspark"
  },
  "language_info": {
   "codemirror_mode": {
    "name": "ipython",
    "version": 3
   },
   "file_extension": ".py",
   "mimetype": "text/x-python",
   "name": "python",
   "nbconvert_exporter": "python",
   "pygments_lexer": "ipython3",
   "version": "3.10.14"
  }
 },
 "nbformat": 4,
 "nbformat_minor": 5
}
