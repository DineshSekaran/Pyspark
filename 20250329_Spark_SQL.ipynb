{
 "cells": [
  {
   "cell_type": "code",
   "execution_count": null,
   "id": "231b2b37-a217-4abd-af44-bc5dd6f0ea6a",
   "metadata": {},
   "outputs": [],
   "source": []
  },
  {
   "cell_type": "markdown",
   "id": "b293e389-4997-4c03-ba05-942a4fbc1c20",
   "metadata": {},
   "source": [
    "## Spark Session"
   ]
  },
  {
   "cell_type": "code",
   "execution_count": 1,
   "id": "29ea565f-22e1-41b5-9cba-dea044ca9337",
   "metadata": {},
   "outputs": [
    {
     "name": "stderr",
     "output_type": "stream",
     "text": [
      "Setting default log level to \"WARN\".\n",
      "To adjust logging level use sc.setLogLevel(newLevel). For SparkR, use setLogLevel(newLevel).\n"
     ]
    }
   ],
   "source": [
    "from pyspark.sql import SparkSession\n",
    "\n",
    "appName = \"BDP Spark SQL Example\"\n",
    "\n",
    "# Create Spark session\n",
    "spark = SparkSession.builder \\\n",
    "    .appName(appName) \\\n",
    "    .getOrCreate()\n"
   ]
  },
  {
   "cell_type": "code",
   "execution_count": 2,
   "id": "5be2a8a2-7a97-4412-86d4-777762924115",
   "metadata": {},
   "outputs": [
    {
     "data": {
      "text/html": [
       "\n",
       "            <div>\n",
       "                <p><b>SparkSession - hive</b></p>\n",
       "                \n",
       "        <div>\n",
       "            <p><b>SparkContext</b></p>\n",
       "\n",
       "            <p><a href=\"http://jupyter:4040\">Spark UI</a></p>\n",
       "\n",
       "            <dl>\n",
       "              <dt>Version</dt>\n",
       "                <dd><code>v3.1.2</code></dd>\n",
       "              <dt>Master</dt>\n",
       "                <dd><code>yarn</code></dd>\n",
       "              <dt>AppName</dt>\n",
       "                <dd><code>BDP Spark SQL Example</code></dd>\n",
       "            </dl>\n",
       "        </div>\n",
       "        \n",
       "            </div>\n",
       "        "
      ],
      "text/plain": [
       "<pyspark.sql.session.SparkSession at 0x7f325c3fef50>"
      ]
     },
     "execution_count": 2,
     "metadata": {},
     "output_type": "execute_result"
    }
   ],
   "source": [
    "spark"
   ]
  },
  {
   "cell_type": "code",
   "execution_count": null,
   "id": "cfac5a61-ea7b-408b-a2d9-96b6a560b51c",
   "metadata": {},
   "outputs": [],
   "source": []
  },
  {
   "cell_type": "markdown",
   "id": "b65cfa42-8a61-45ce-a82e-321b3787f71f",
   "metadata": {},
   "source": [
    "# Spark Parquet Dataset"
   ]
  },
  {
   "cell_type": "code",
   "execution_count": 3,
   "id": "58aa2d70-ec15-47f5-a52b-502f092fb339",
   "metadata": {},
   "outputs": [],
   "source": [
    "!hdfs dfs -mkdir -p /user/bigdatapedia/input/customer/parquet"
   ]
  },
  {
   "cell_type": "code",
   "execution_count": 4,
   "id": "f7d70fe1-5657-4b42-8898-a38bb05a1c50",
   "metadata": {},
   "outputs": [],
   "source": [
    "!hdfs dfs -put /home/bigdatapedia/data/customer_parq.parquet /user/bigdatapedia/input/customer/parquet/"
   ]
  },
  {
   "cell_type": "code",
   "execution_count": 5,
   "id": "e9a78193-483e-4927-ae9a-9915f2bcb515",
   "metadata": {},
   "outputs": [
    {
     "name": "stdout",
     "output_type": "stream",
     "text": [
      "Found 1 items\n",
      "-rw-r--r--   3 bigdatapedia supergroup    248.7 K 2025-03-29 03:45 /user/bigdatapedia/input/customer/parquet/customer_parq.parquet\n"
     ]
    }
   ],
   "source": [
    "!hdfs dfs -ls -h /user/bigdatapedia/input/customer/parquet/"
   ]
  },
  {
   "cell_type": "code",
   "execution_count": 6,
   "id": "ca203f94-eb6d-4b23-bd05-a708a7d11b53",
   "metadata": {
    "scrolled": true
   },
   "outputs": [
    {
     "name": "stderr",
     "output_type": "stream",
     "text": [
      "                                                                                \r"
     ]
    }
   ],
   "source": [
    "df_cust = spark.read.parquet(\"/user/bigdatapedia/input/customer/parquet\")"
   ]
  },
  {
   "cell_type": "code",
   "execution_count": 7,
   "id": "8b7be635-494f-4aa8-8fe3-25af50e18513",
   "metadata": {},
   "outputs": [
    {
     "name": "stderr",
     "output_type": "stream",
     "text": [
      "[Stage 1:>                                                          (0 + 1) / 1]\r"
     ]
    },
    {
     "name": "stdout",
     "output_type": "stream",
     "text": [
      "+-----------+--------------+--------------+--------------+-----------------+-----------------------+-------------+--------------+----------------+\n",
      "|customer_id|customer_fname|customer_lname|customer_email|customer_password|customer_street        |customer_city|customer_state|customer_zipcode|\n",
      "+-----------+--------------+--------------+--------------+-----------------+-----------------------+-------------+--------------+----------------+\n",
      "|1          |Richard       |Hernandez     |XXXXXXXXX     |XXXXXXXXX        |6303 Heather Plaza     |Brownsville  |TX            |78521           |\n",
      "|2          |Mary          |Barrett       |XXXXXXXXX     |XXXXXXXXX        |9526 Noble Embers Ridge|Littleton    |CO            |80126           |\n",
      "|3          |Ann           |Smith         |XXXXXXXXX     |XXXXXXXXX        |3422 Blue Pioneer Bend |Caguas       |PR            |00725           |\n",
      "|4          |Mary          |Jones         |XXXXXXXXX     |XXXXXXXXX        |8324 Little Common     |San Marcos   |CA            |92069           |\n",
      "|5          |Robert        |Hudson        |XXXXXXXXX     |XXXXXXXXX        |10 Crystal River Mall  |Caguas       |PR            |00725           |\n",
      "+-----------+--------------+--------------+--------------+-----------------+-----------------------+-------------+--------------+----------------+\n",
      "only showing top 5 rows\n",
      "\n"
     ]
    },
    {
     "name": "stderr",
     "output_type": "stream",
     "text": [
      "                                                                                \r"
     ]
    }
   ],
   "source": [
    "df_cust.show(5,0)"
   ]
  },
  {
   "cell_type": "markdown",
   "id": "b0762ecf-b8da-407e-aa0b-40ec031c372d",
   "metadata": {},
   "source": [
    "#### Select"
   ]
  },
  {
   "cell_type": "code",
   "execution_count": 8,
   "id": "3d30ee86-c332-4271-b02a-be3ce9a6c52b",
   "metadata": {},
   "outputs": [],
   "source": [
    "df_select = df_cust.select(\"customer_id\", \"customer_fname\", \"customer_lname\", \"customer_city\", \"customer_state\")"
   ]
  },
  {
   "cell_type": "code",
   "execution_count": 9,
   "id": "4d627527-7dc6-4b59-a341-598a677e4c7b",
   "metadata": {},
   "outputs": [
    {
     "name": "stderr",
     "output_type": "stream",
     "text": [
      "[Stage 2:>                                                          (0 + 1) / 1]\r"
     ]
    },
    {
     "name": "stdout",
     "output_type": "stream",
     "text": [
      "+-----------+--------------+--------------+-------------+--------------+\n",
      "|customer_id|customer_fname|customer_lname|customer_city|customer_state|\n",
      "+-----------+--------------+--------------+-------------+--------------+\n",
      "|1          |Richard       |Hernandez     |Brownsville  |TX            |\n",
      "|2          |Mary          |Barrett       |Littleton    |CO            |\n",
      "|3          |Ann           |Smith         |Caguas       |PR            |\n",
      "|4          |Mary          |Jones         |San Marcos   |CA            |\n",
      "|5          |Robert        |Hudson        |Caguas       |PR            |\n",
      "+-----------+--------------+--------------+-------------+--------------+\n",
      "only showing top 5 rows\n",
      "\n"
     ]
    },
    {
     "name": "stderr",
     "output_type": "stream",
     "text": [
      "                                                                                \r"
     ]
    }
   ],
   "source": [
    "df_select.show(5,0)"
   ]
  },
  {
   "cell_type": "markdown",
   "id": "5d0bf026-69d5-4b14-8c3c-bd993870792e",
   "metadata": {},
   "source": [
    "# Spark ORC Dataset"
   ]
  },
  {
   "cell_type": "code",
   "execution_count": 18,
   "id": "444a4940-bfa4-4874-b11e-906565d5c806",
   "metadata": {},
   "outputs": [],
   "source": [
    "!hdfs dfs -mkdir -p /user/bigdatapedia/input/order/orc"
   ]
  },
  {
   "cell_type": "code",
   "execution_count": 19,
   "id": "f7faec07-5f3e-414b-addc-246a850d3830",
   "metadata": {},
   "outputs": [],
   "source": [
    "!hdfs dfs -put /home/bigdatapedia/data/neworders.snappy.orc /user/bigdatapedia/input/order/orc/"
   ]
  },
  {
   "cell_type": "code",
   "execution_count": 20,
   "id": "c474ffe1-68c4-41a7-b8fd-6dba900f60c3",
   "metadata": {
    "scrolled": true
   },
   "outputs": [
    {
     "name": "stdout",
     "output_type": "stream",
     "text": [
      "Found 1 items\n",
      "-rw-r--r--   3 bigdatapedia supergroup    181.5 K 2025-03-29 04:04 /user/bigdatapedia/input/order/orc/neworders.snappy.orc\n"
     ]
    }
   ],
   "source": [
    "!hdfs dfs -ls -h /user/bigdatapedia/input/order/orc/"
   ]
  },
  {
   "cell_type": "markdown",
   "id": "550f8e1e-eb81-4f3f-8213-2872957afd8e",
   "metadata": {},
   "source": [
    "DataFrame[order_id: int, order_date: timestamp, order_customer_id: int, order_status: string]"
   ]
  },
  {
   "cell_type": "code",
   "execution_count": 21,
   "id": "16f2bef2-276f-42a8-a1db-e0fb48c5b1f8",
   "metadata": {},
   "outputs": [],
   "source": [
    "df_order = spark.read.orc(\"/user/bigdatapedia/input/order/orc\")"
   ]
  },
  {
   "cell_type": "code",
   "execution_count": 22,
   "id": "56a4affe-4aa6-462d-ae79-fcde3827058e",
   "metadata": {},
   "outputs": [
    {
     "name": "stderr",
     "output_type": "stream",
     "text": [
      "[Stage 6:>                                                          (0 + 1) / 1]\r"
     ]
    },
    {
     "name": "stdout",
     "output_type": "stream",
     "text": [
      "+--------+-------------------+-----------------+---------------+\n",
      "|order_id|order_date         |order_customer_id|order_status   |\n",
      "+--------+-------------------+-----------------+---------------+\n",
      "|1       |2013-07-25 00:00:00|11599            |CLOSED         |\n",
      "|2       |2013-07-25 00:00:00|256              |PENDING_PAYMENT|\n",
      "|3       |2013-07-25 00:00:00|12111            |COMPLETE       |\n",
      "|4       |2013-07-25 00:00:00|8827             |CLOSED         |\n",
      "|5       |2013-07-25 00:00:00|11318            |COMPLETE       |\n",
      "+--------+-------------------+-----------------+---------------+\n",
      "only showing top 5 rows\n",
      "\n"
     ]
    },
    {
     "name": "stderr",
     "output_type": "stream",
     "text": [
      "                                                                                \r"
     ]
    }
   ],
   "source": [
    "df_order.show(5,0)"
   ]
  },
  {
   "cell_type": "markdown",
   "id": "7ff956f3-d6d5-4bb2-868f-1e2877dc6dcf",
   "metadata": {},
   "source": [
    "# DF Actions"
   ]
  },
  {
   "cell_type": "code",
   "execution_count": null,
   "id": "9cccda58-07e0-451a-a47b-d6100d6c08c3",
   "metadata": {},
   "outputs": [],
   "source": [
    "# df -> t1 -> t2 -> t3 -> .... -> action\n",
    "\n",
    "# 100 gb df source -> filter (50 gb) -> join (20 gb) -> filter (5 gb) -> group by (1 gb) -> limit (1 mb target) -> action"
   ]
  },
  {
   "cell_type": "code",
   "execution_count": 52,
   "id": "d07ef29a-4b23-452b-ba68-aba3e01b79cd",
   "metadata": {},
   "outputs": [],
   "source": [
    "df_select = df_cust. \\\n",
    "select(\"customer_id\", \"customer_fname\", \"customer_lname\", \"customer_city\", \"customer_state\"). \\\n",
    "where(\"customer_state = 'CA'\"). \\\n",
    "sort(\"customer_id\").limit(5)"
   ]
  },
  {
   "cell_type": "code",
   "execution_count": 50,
   "id": "7ef976ab-558f-408c-97cf-ced7b0c43489",
   "metadata": {},
   "outputs": [
    {
     "name": "stdout",
     "output_type": "stream",
     "text": [
      "+-----------+--------------+--------------+-------------+--------------+\n",
      "|customer_id|customer_fname|customer_lname|customer_city|customer_state|\n",
      "+-----------+--------------+--------------+-------------+--------------+\n",
      "|4          |Mary          |Jones         |San Marcos   |CA            |\n",
      "|14         |Katherine     |Smith         |Pico Rivera  |CA            |\n",
      "|15         |Jane          |Luna          |Fontana      |CA            |\n",
      "|18         |Robert        |Smith         |Martinez     |CA            |\n",
      "|35         |Margaret      |Wright        |Oceanside    |CA            |\n",
      "+-----------+--------------+--------------+-------------+--------------+\n",
      "\n"
     ]
    }
   ],
   "source": [
    "df_select.show(5, 0)"
   ]
  },
  {
   "cell_type": "markdown",
   "id": "037dacd2-43d6-4e25-a49c-49594b9ed215",
   "metadata": {},
   "source": [
    "### show"
   ]
  },
  {
   "cell_type": "code",
   "execution_count": 53,
   "id": "06fc3a4e-dfff-4d30-82a6-0ce6f473defb",
   "metadata": {},
   "outputs": [
    {
     "name": "stdout",
     "output_type": "stream",
     "text": [
      "+-----------+--------------+--------------+-------------+--------------+\n",
      "|customer_id|customer_fname|customer_lname|customer_city|customer_state|\n",
      "+-----------+--------------+--------------+-------------+--------------+\n",
      "|4          |Mary          |Jones         |San Marcos   |CA            |\n",
      "|14         |Katherine     |Smith         |Pico Rivera  |CA            |\n",
      "|15         |Jane          |Luna          |Fontana      |CA            |\n",
      "|18         |Robert        |Smith         |Martinez     |CA            |\n",
      "|35         |Margaret      |Wright        |Oceanside    |CA            |\n",
      "+-----------+--------------+--------------+-------------+--------------+\n",
      "\n"
     ]
    }
   ],
   "source": [
    "df_select.show(5, 0)"
   ]
  },
  {
   "cell_type": "markdown",
   "id": "d5563f49-bbd9-488b-8e02-ad852ca3b4cd",
   "metadata": {},
   "source": [
    "### count"
   ]
  },
  {
   "cell_type": "code",
   "execution_count": 54,
   "id": "3a0ea7a3-08d5-4592-ac89-44f015229c1e",
   "metadata": {},
   "outputs": [
    {
     "data": {
      "text/plain": [
       "5"
      ]
     },
     "execution_count": 54,
     "metadata": {},
     "output_type": "execute_result"
    }
   ],
   "source": [
    "df_select.count()"
   ]
  },
  {
   "cell_type": "markdown",
   "id": "55906463-2634-43e1-a688-3c0e245dcee3",
   "metadata": {},
   "source": [
    "### collect"
   ]
  },
  {
   "cell_type": "code",
   "execution_count": 55,
   "id": "6a42d9c6-83bc-4c5a-94ac-4679c16260b7",
   "metadata": {},
   "outputs": [
    {
     "data": {
      "text/plain": [
       "[Row(customer_id=4, customer_fname='Mary', customer_lname='Jones', customer_city='San Marcos', customer_state='CA'),\n",
       " Row(customer_id=14, customer_fname='Katherine', customer_lname='Smith', customer_city='Pico Rivera', customer_state='CA'),\n",
       " Row(customer_id=15, customer_fname='Jane', customer_lname='Luna', customer_city='Fontana', customer_state='CA'),\n",
       " Row(customer_id=18, customer_fname='Robert', customer_lname='Smith', customer_city='Martinez', customer_state='CA'),\n",
       " Row(customer_id=35, customer_fname='Margaret', customer_lname='Wright', customer_city='Oceanside', customer_state='CA')]"
      ]
     },
     "execution_count": 55,
     "metadata": {},
     "output_type": "execute_result"
    }
   ],
   "source": [
    "df_select.collect()"
   ]
  },
  {
   "cell_type": "markdown",
   "id": "c93b8f61-2c7b-4b98-ba56-f094b53ac35b",
   "metadata": {},
   "source": [
    "### head"
   ]
  },
  {
   "cell_type": "code",
   "execution_count": 56,
   "id": "15480bf6-ef0b-4c0d-ac23-c1f36d8f96e1",
   "metadata": {},
   "outputs": [
    {
     "data": {
      "text/plain": [
       "Row(customer_id=4, customer_fname='Mary', customer_lname='Jones', customer_city='San Marcos', customer_state='CA')"
      ]
     },
     "execution_count": 56,
     "metadata": {},
     "output_type": "execute_result"
    }
   ],
   "source": [
    "df_select.head()"
   ]
  },
  {
   "cell_type": "code",
   "execution_count": 57,
   "id": "8005f7a8-3965-4665-987a-70bdb14d5a46",
   "metadata": {},
   "outputs": [
    {
     "data": {
      "text/plain": [
       "[Row(customer_id=4, customer_fname='Mary', customer_lname='Jones', customer_city='San Marcos', customer_state='CA'),\n",
       " Row(customer_id=14, customer_fname='Katherine', customer_lname='Smith', customer_city='Pico Rivera', customer_state='CA')]"
      ]
     },
     "execution_count": 57,
     "metadata": {},
     "output_type": "execute_result"
    }
   ],
   "source": [
    "df_select.head(2)"
   ]
  },
  {
   "cell_type": "markdown",
   "id": "013bf623-966b-4ea4-bda0-eb3f3a9bd2b2",
   "metadata": {},
   "source": [
    "### tail"
   ]
  },
  {
   "cell_type": "code",
   "execution_count": 59,
   "id": "677be521-5ded-44f7-bbc4-a0284ca65de9",
   "metadata": {},
   "outputs": [
    {
     "data": {
      "text/plain": [
       "[Row(customer_id=18, customer_fname='Robert', customer_lname='Smith', customer_city='Martinez', customer_state='CA'),\n",
       " Row(customer_id=35, customer_fname='Margaret', customer_lname='Wright', customer_city='Oceanside', customer_state='CA')]"
      ]
     },
     "execution_count": 59,
     "metadata": {},
     "output_type": "execute_result"
    }
   ],
   "source": [
    "df_select.tail(2)"
   ]
  },
  {
   "cell_type": "markdown",
   "id": "74bda326-111a-4db9-9c67-566efa48478d",
   "metadata": {},
   "source": [
    "### take"
   ]
  },
  {
   "cell_type": "code",
   "execution_count": 61,
   "id": "10c02bb0-6fb1-420e-9380-75c4c2e3dc4c",
   "metadata": {},
   "outputs": [
    {
     "data": {
      "text/plain": [
       "[Row(customer_id=4, customer_fname='Mary', customer_lname='Jones', customer_city='San Marcos', customer_state='CA'),\n",
       " Row(customer_id=14, customer_fname='Katherine', customer_lname='Smith', customer_city='Pico Rivera', customer_state='CA'),\n",
       " Row(customer_id=15, customer_fname='Jane', customer_lname='Luna', customer_city='Fontana', customer_state='CA')]"
      ]
     },
     "execution_count": 61,
     "metadata": {},
     "output_type": "execute_result"
    }
   ],
   "source": [
    "df_select.take(3)"
   ]
  },
  {
   "cell_type": "markdown",
   "id": "ae78c356-5b6c-4175-b64a-1e52ed8ff5ee",
   "metadata": {},
   "source": [
    "### corr"
   ]
  },
  {
   "cell_type": "code",
   "execution_count": 64,
   "id": "265f9de8-bbc0-4616-baa6-c4501c4450d0",
   "metadata": {},
   "outputs": [
    {
     "data": {
      "text/plain": [
       "1.0"
      ]
     },
     "execution_count": 64,
     "metadata": {},
     "output_type": "execute_result"
    }
   ],
   "source": [
    "df_select.corr(\"customer_id\", \"customer_id\")"
   ]
  },
  {
   "cell_type": "markdown",
   "id": "b0db3cbd-851e-48c8-9ade-2b4008c2ccc7",
   "metadata": {},
   "source": [
    "### cov"
   ]
  },
  {
   "cell_type": "code",
   "execution_count": 65,
   "id": "685846d6-44f4-4f7a-a027-f80a786e9d1b",
   "metadata": {},
   "outputs": [
    {
     "data": {
      "text/plain": [
       "126.7"
      ]
     },
     "execution_count": 65,
     "metadata": {},
     "output_type": "execute_result"
    }
   ],
   "source": [
    "df_select.cov(\"customer_id\", \"customer_id\")"
   ]
  },
  {
   "cell_type": "markdown",
   "id": "309e89ea-1e83-488e-9bae-c13b318a9b8a",
   "metadata": {},
   "source": [
    "### first"
   ]
  },
  {
   "cell_type": "code",
   "execution_count": 66,
   "id": "0fd51d5c-bc80-483c-9ed3-eef010feb562",
   "metadata": {},
   "outputs": [
    {
     "data": {
      "text/plain": [
       "Row(customer_id=4, customer_fname='Mary', customer_lname='Jones', customer_city='San Marcos', customer_state='CA')"
      ]
     },
     "execution_count": 66,
     "metadata": {},
     "output_type": "execute_result"
    }
   ],
   "source": [
    "df_select.first()"
   ]
  },
  {
   "cell_type": "markdown",
   "id": "da005fe7-a43f-4be6-b442-a4c4231a8515",
   "metadata": {},
   "source": [
    "### write"
   ]
  },
  {
   "cell_type": "code",
   "execution_count": 68,
   "id": "3cd6aeac-8a57-4fd4-a9f1-08f34a11d524",
   "metadata": {},
   "outputs": [
    {
     "name": "stderr",
     "output_type": "stream",
     "text": [
      "                                                                                \r"
     ]
    }
   ],
   "source": [
    "df_select.write.json(\"/user/bigdatapedia/output/json\")"
   ]
  },
  {
   "cell_type": "code",
   "execution_count": 69,
   "id": "e382e305-e2c6-4305-ba5c-2a270da46010",
   "metadata": {},
   "outputs": [
    {
     "name": "stdout",
     "output_type": "stream",
     "text": [
      "Found 2 items\n",
      "-rw-r--r--   3 bigdatapedia supergroup          0 2025-03-29 04:51 /user/bigdatapedia/output/json/_SUCCESS\n",
      "-rw-r--r--   3 bigdatapedia supergroup        600 2025-03-29 04:51 /user/bigdatapedia/output/json/part-00000-ac466b75-b57c-4ffd-9630-6232d7100da9-c000.json\n"
     ]
    }
   ],
   "source": [
    "!hdfs dfs -ls /user/bigdatapedia/output/json"
   ]
  },
  {
   "cell_type": "code",
   "execution_count": 70,
   "id": "8462a819-756a-44b3-ae87-e4444c29edb6",
   "metadata": {},
   "outputs": [
    {
     "name": "stdout",
     "output_type": "stream",
     "text": [
      "{\"customer_id\":4,\"customer_fname\":\"Mary\",\"customer_lname\":\"Jones\",\"customer_city\":\"San Marcos\",\"customer_state\":\"CA\"}\n",
      "{\"customer_id\":14,\"customer_fname\":\"Katherine\",\"customer_lname\":\"Smith\",\"customer_city\":\"Pico Rivera\",\"customer_state\":\"CA\"}\n",
      "{\"customer_id\":15,\"customer_fname\":\"Jane\",\"customer_lname\":\"Luna\",\"customer_city\":\"Fontana\",\"customer_state\":\"CA\"}\n",
      "{\"customer_id\":18,\"customer_fname\":\"Robert\",\"customer_lname\":\"Smith\",\"customer_city\":\"Martinez\",\"customer_state\":\"CA\"}\n",
      "{\"customer_id\":35,\"customer_fname\":\"Margaret\",\"customer_lname\":\"Wright\",\"customer_city\":\"Oceanside\",\"customer_state\":\"CA\"}\n"
     ]
    }
   ],
   "source": [
    "!hdfs dfs -cat /user/bigdatapedia/output/json/*.json"
   ]
  },
  {
   "cell_type": "code",
   "execution_count": null,
   "id": "ddd11009-d31f-4687-a3eb-aec5494a5f42",
   "metadata": {},
   "outputs": [],
   "source": []
  },
  {
   "cell_type": "markdown",
   "id": "7fd433a3-7d9b-46cb-8c16-83adb99d60dc",
   "metadata": {},
   "source": [
    "# Spark SQL"
   ]
  },
  {
   "cell_type": "code",
   "execution_count": 10,
   "id": "08616f72-4e49-4aa2-be42-9c94ac594b73",
   "metadata": {},
   "outputs": [],
   "source": [
    "df_select.createOrReplaceTempView(\"customer\")"
   ]
  },
  {
   "cell_type": "code",
   "execution_count": 17,
   "id": "44aeb689-2e73-4860-8f49-50bfce345510",
   "metadata": {},
   "outputs": [
    {
     "name": "stderr",
     "output_type": "stream",
     "text": [
      "25/03/29 04:00:49 WARN conf.HiveConf: HiveConf of name hive.metastore.event.db.notification.api.auth does not exist\n"
     ]
    },
    {
     "name": "stdout",
     "output_type": "stream",
     "text": [
      "+--------+---------+-----------+\n",
      "|database|tableName|isTemporary|\n",
      "+--------+---------+-----------+\n",
      "|        | customer|       true|\n",
      "+--------+---------+-----------+\n",
      "\n"
     ]
    }
   ],
   "source": [
    "spark.sql(\"show tables\").show()"
   ]
  },
  {
   "cell_type": "code",
   "execution_count": 12,
   "id": "5950c5b4-6c48-4a0d-9097-3d6279e4025e",
   "metadata": {},
   "outputs": [
    {
     "name": "stdout",
     "output_type": "stream",
     "text": [
      "+-----------+--------------+--------------+-------------+--------------+\n",
      "|customer_id|customer_fname|customer_lname|customer_city|customer_state|\n",
      "+-----------+--------------+--------------+-------------+--------------+\n",
      "|1          |Richard       |Hernandez     |Brownsville  |TX            |\n",
      "|2          |Mary          |Barrett       |Littleton    |CO            |\n",
      "|3          |Ann           |Smith         |Caguas       |PR            |\n",
      "|4          |Mary          |Jones         |San Marcos   |CA            |\n",
      "|5          |Robert        |Hudson        |Caguas       |PR            |\n",
      "+-----------+--------------+--------------+-------------+--------------+\n",
      "only showing top 5 rows\n",
      "\n"
     ]
    }
   ],
   "source": [
    "spark.sql(\"select * from customer\").show(5,0)"
   ]
  },
  {
   "cell_type": "code",
   "execution_count": 13,
   "id": "1381bb0c-510c-4ee7-b959-d2a54767116b",
   "metadata": {},
   "outputs": [
    {
     "name": "stdout",
     "output_type": "stream",
     "text": [
      "== Physical Plan ==\n",
      "*(1) ColumnarToRow\n",
      "+- FileScan parquet [customer_id#0,customer_fname#1,customer_lname#2,customer_city#6,customer_state#7] Batched: true, DataFilters: [], Format: Parquet, Location: InMemoryFileIndex[hdfs://hdfs-bigdatapedia:9000/user/bigdatapedia/input/customer/parquet], PartitionFilters: [], PushedFilters: [], ReadSchema: struct<customer_id:int,customer_fname:string,customer_lname:string,customer_city:string,customer_...\n",
      "\n",
      "\n"
     ]
    }
   ],
   "source": [
    "df_select.explain()"
   ]
  },
  {
   "cell_type": "code",
   "execution_count": 14,
   "id": "e29b1e93-8fff-430d-a10b-c10150556f3a",
   "metadata": {},
   "outputs": [
    {
     "name": "stdout",
     "output_type": "stream",
     "text": [
      "== Physical Plan ==\n",
      "*(1) ColumnarToRow\n",
      "+- FileScan parquet [customer_id#0,customer_fname#1,customer_lname#2,customer_city#6,customer_state#7] Batched: true, DataFilters: [], Format: Parquet, Location: InMemoryFileIndex[hdfs://hdfs-bigdatapedia:9000/user/bigdatapedia/input/customer/parquet], PartitionFilters: [], PushedFilters: [], ReadSchema: struct<customer_id:int,customer_fname:string,customer_lname:string,customer_city:string,customer_...\n",
      "\n",
      "\n"
     ]
    }
   ],
   "source": [
    "spark.sql(\"select * from customer\").explain()"
   ]
  },
  {
   "cell_type": "markdown",
   "id": "47e2261b-ce73-4503-9d9d-b996a5451d9c",
   "metadata": {},
   "source": [
    "### Join"
   ]
  },
  {
   "cell_type": "code",
   "execution_count": 26,
   "id": "b57149ea-6a24-4e4b-af45-66f136a67c2b",
   "metadata": {},
   "outputs": [],
   "source": [
    "df_order.createOrReplaceTempView(\"order\")"
   ]
  },
  {
   "cell_type": "code",
   "execution_count": null,
   "id": "355b4bc0-094b-454c-84da-dc0beca9efec",
   "metadata": {},
   "outputs": [],
   "source": [
    "df_join = df_select.join(df_order, df_select[\"customer_id\"] == df_order[\"order_customer_id\"], \"inner\")"
   ]
  },
  {
   "cell_type": "code",
   "execution_count": 28,
   "id": "83a5d39f-2256-4115-bcf9-dc5ce655d33a",
   "metadata": {},
   "outputs": [
    {
     "name": "stderr",
     "output_type": "stream",
     "text": [
      "[Stage 14:>                                                         (0 + 1) / 1]\r"
     ]
    },
    {
     "name": "stdout",
     "output_type": "stream",
     "text": [
      "+-----------+--------------+--------------+-------------+--------------+--------+-------------------+-----------------+------------+\n",
      "|customer_id|customer_fname|customer_lname|customer_city|customer_state|order_id|order_date         |order_customer_id|order_status|\n",
      "+-----------+--------------+--------------+-------------+--------------+--------+-------------------+-----------------+------------+\n",
      "|148        |Stephanie     |Richards      |Caguas       |PR            |15061   |2013-10-28 00:00:00|148              |CLOSED      |\n",
      "|148        |Stephanie     |Richards      |Caguas       |PR            |59569   |2013-10-03 00:00:00|148              |COMPLETE    |\n",
      "|148        |Stephanie     |Richards      |Caguas       |PR            |61124   |2013-12-02 00:00:00|148              |CLOSED      |\n",
      "|463        |Harry         |Smith         |Caguas       |PR            |6857    |2013-09-06 00:00:00|463              |COMPLETE    |\n",
      "|463        |Harry         |Smith         |Caguas       |PR            |14181   |2013-10-22 00:00:00|463              |COMPLETE    |\n",
      "+-----------+--------------+--------------+-------------+--------------+--------+-------------------+-----------------+------------+\n",
      "only showing top 5 rows\n",
      "\n"
     ]
    },
    {
     "name": "stderr",
     "output_type": "stream",
     "text": [
      "                                                                                \r"
     ]
    }
   ],
   "source": [
    "spark.sql(\"\"\"\n",
    "    select * from customer c\n",
    "        inner join order o\n",
    "        on c.customer_id = o.order_customer_id\"\"\").show(5,0)"
   ]
  },
  {
   "cell_type": "code",
   "execution_count": 29,
   "id": "42e929d0-940b-4dfd-ae07-3644af098387",
   "metadata": {},
   "outputs": [
    {
     "name": "stdout",
     "output_type": "stream",
     "text": [
      "== Physical Plan ==\n",
      "*(5) SortMergeJoin [customer_id#0], [order_customer_id#198], Inner\n",
      ":- *(2) Sort [customer_id#0 ASC NULLS FIRST], false, 0\n",
      ":  +- Exchange hashpartitioning(customer_id#0, 200), ENSURE_REQUIREMENTS, [id=#428]\n",
      ":     +- *(1) Filter isnotnull(customer_id#0)\n",
      ":        +- *(1) ColumnarToRow\n",
      ":           +- FileScan parquet [customer_id#0,customer_fname#1,customer_lname#2,customer_city#6,customer_state#7] Batched: true, DataFilters: [isnotnull(customer_id#0)], Format: Parquet, Location: InMemoryFileIndex[hdfs://hdfs-bigdatapedia:9000/user/bigdatapedia/input/customer/parquet], PartitionFilters: [], PushedFilters: [IsNotNull(customer_id)], ReadSchema: struct<customer_id:int,customer_fname:string,customer_lname:string,customer_city:string,customer_...\n",
      "+- *(4) Sort [order_customer_id#198 ASC NULLS FIRST], false, 0\n",
      "   +- Exchange hashpartitioning(order_customer_id#198, 200), ENSURE_REQUIREMENTS, [id=#437]\n",
      "      +- *(3) Filter isnotnull(order_customer_id#198)\n",
      "         +- *(3) ColumnarToRow\n",
      "            +- FileScan orc [order_id#196,order_date#197,order_customer_id#198,order_status#199] Batched: true, DataFilters: [isnotnull(order_customer_id#198)], Format: ORC, Location: InMemoryFileIndex[hdfs://hdfs-bigdatapedia:9000/user/bigdatapedia/input/order/orc], PartitionFilters: [], PushedFilters: [IsNotNull(order_customer_id)], ReadSchema: struct<order_id:int,order_date:timestamp,order_customer_id:int,order_status:string>\n",
      "\n",
      "\n"
     ]
    }
   ],
   "source": [
    "spark.sql(\"\"\"\n",
    "    select * from customer c\n",
    "        inner join order o\n",
    "        on c.customer_id = o.order_customer_id\"\"\").explain()"
   ]
  },
  {
   "cell_type": "code",
   "execution_count": null,
   "id": "8a2db23c-8781-4b6c-b68d-8e7c175e3269",
   "metadata": {},
   "outputs": [],
   "source": []
  },
  {
   "cell_type": "code",
   "execution_count": 23,
   "id": "783a63dd-d799-43bb-80ab-28c54d54f0eb",
   "metadata": {},
   "outputs": [],
   "source": [
    "df_join = df_select.join(df_order, df_select[\"customer_id\"] == df_order[\"order_customer_id\"], \"inner\")"
   ]
  },
  {
   "cell_type": "code",
   "execution_count": 24,
   "id": "16e256ef-6ac3-4c05-8198-e2e40b5cbfb3",
   "metadata": {
    "scrolled": true
   },
   "outputs": [
    {
     "name": "stderr",
     "output_type": "stream",
     "text": [
      "[Stage 9:>                                                          (0 + 1) / 1]\r"
     ]
    },
    {
     "name": "stdout",
     "output_type": "stream",
     "text": [
      "+-----------+--------------+--------------+-------------+--------------+--------+-------------------+-----------------+------------+\n",
      "|customer_id|customer_fname|customer_lname|customer_city|customer_state|order_id|order_date         |order_customer_id|order_status|\n",
      "+-----------+--------------+--------------+-------------+--------------+--------+-------------------+-----------------+------------+\n",
      "|148        |Stephanie     |Richards      |Caguas       |PR            |15061   |2013-10-28 00:00:00|148              |CLOSED      |\n",
      "|148        |Stephanie     |Richards      |Caguas       |PR            |59569   |2013-10-03 00:00:00|148              |COMPLETE    |\n",
      "|148        |Stephanie     |Richards      |Caguas       |PR            |61124   |2013-12-02 00:00:00|148              |CLOSED      |\n",
      "|463        |Harry         |Smith         |Caguas       |PR            |6857    |2013-09-06 00:00:00|463              |COMPLETE    |\n",
      "|463        |Harry         |Smith         |Caguas       |PR            |14181   |2013-10-22 00:00:00|463              |COMPLETE    |\n",
      "+-----------+--------------+--------------+-------------+--------------+--------+-------------------+-----------------+------------+\n",
      "only showing top 5 rows\n",
      "\n"
     ]
    },
    {
     "name": "stderr",
     "output_type": "stream",
     "text": [
      "                                                                                \r"
     ]
    }
   ],
   "source": [
    "df_join.show(5,0)"
   ]
  },
  {
   "cell_type": "code",
   "execution_count": 25,
   "id": "328525e0-71f5-4324-a04f-11ea082cb07f",
   "metadata": {},
   "outputs": [
    {
     "name": "stdout",
     "output_type": "stream",
     "text": [
      "== Physical Plan ==\n",
      "*(5) SortMergeJoin [customer_id#0], [order_customer_id#198], Inner\n",
      ":- *(2) Sort [customer_id#0 ASC NULLS FIRST], false, 0\n",
      ":  +- Exchange hashpartitioning(customer_id#0, 200), ENSURE_REQUIREMENTS, [id=#230]\n",
      ":     +- *(1) Filter isnotnull(customer_id#0)\n",
      ":        +- *(1) ColumnarToRow\n",
      ":           +- FileScan parquet [customer_id#0,customer_fname#1,customer_lname#2,customer_city#6,customer_state#7] Batched: true, DataFilters: [isnotnull(customer_id#0)], Format: Parquet, Location: InMemoryFileIndex[hdfs://hdfs-bigdatapedia:9000/user/bigdatapedia/input/customer/parquet], PartitionFilters: [], PushedFilters: [IsNotNull(customer_id)], ReadSchema: struct<customer_id:int,customer_fname:string,customer_lname:string,customer_city:string,customer_...\n",
      "+- *(4) Sort [order_customer_id#198 ASC NULLS FIRST], false, 0\n",
      "   +- Exchange hashpartitioning(order_customer_id#198, 200), ENSURE_REQUIREMENTS, [id=#239]\n",
      "      +- *(3) Filter isnotnull(order_customer_id#198)\n",
      "         +- *(3) ColumnarToRow\n",
      "            +- FileScan orc [order_id#196,order_date#197,order_customer_id#198,order_status#199] Batched: true, DataFilters: [isnotnull(order_customer_id#198)], Format: ORC, Location: InMemoryFileIndex[hdfs://hdfs-bigdatapedia:9000/user/bigdatapedia/input/order/orc], PartitionFilters: [], PushedFilters: [IsNotNull(order_customer_id)], ReadSchema: struct<order_id:int,order_date:timestamp,order_customer_id:int,order_status:string>\n",
      "\n",
      "\n"
     ]
    }
   ],
   "source": [
    "df_join.explain()"
   ]
  },
  {
   "cell_type": "code",
   "execution_count": 25,
   "id": "0af03dcc-d607-4ff6-8111-bdd191ba4dd0",
   "metadata": {},
   "outputs": [
    {
     "name": "stdout",
     "output_type": "stream",
     "text": [
      "== Physical Plan ==\n",
      "*(5) SortMergeJoin [customer_id#0], [order_customer_id#198], Inner\n",
      ":- *(2) Sort [customer_id#0 ASC NULLS FIRST], false, 0\n",
      ":  +- Exchange hashpartitioning(customer_id#0, 200), ENSURE_REQUIREMENTS, [id=#230]\n",
      ":     +- *(1) Filter isnotnull(customer_id#0)\n",
      ":        +- *(1) ColumnarToRow\n",
      ":           +- FileScan parquet [customer_id#0,customer_fname#1,customer_lname#2,customer_city#6,customer_state#7] Batched: true, DataFilters: [isnotnull(customer_id#0)], Format: Parquet, Location: InMemoryFileIndex[hdfs://hdfs-bigdatapedia:9000/user/bigdatapedia/input/customer/parquet], PartitionFilters: [], PushedFilters: [IsNotNull(customer_id)], ReadSchema: struct<customer_id:int,customer_fname:string,customer_lname:string,customer_city:string,customer_...\n",
      "+- *(4) Sort [order_customer_id#198 ASC NULLS FIRST], false, 0\n",
      "   +- Exchange hashpartitioning(order_customer_id#198, 200), ENSURE_REQUIREMENTS, [id=#239]\n",
      "      +- *(3) Filter isnotnull(order_customer_id#198)\n",
      "         +- *(3) ColumnarToRow\n",
      "            +- FileScan orc [order_id#196,order_date#197,order_customer_id#198,order_status#199] Batched: true, DataFilters: [isnotnull(order_customer_id#198)], Format: ORC, Location: InMemoryFileIndex[hdfs://hdfs-bigdatapedia:9000/user/bigdatapedia/input/order/orc], PartitionFilters: [], PushedFilters: [IsNotNull(order_customer_id)], ReadSchema: struct<order_id:int,order_date:timestamp,order_customer_id:int,order_status:string>\n",
      "\n",
      "\n"
     ]
    }
   ],
   "source": [
    "df_join.explain()"
   ]
  },
  {
   "cell_type": "markdown",
   "id": "27c4e797-619d-4160-85b5-ff1423069f14",
   "metadata": {},
   "source": [
    "### Group By"
   ]
  },
  {
   "cell_type": "code",
   "execution_count": 30,
   "id": "96ec3db5-efbf-481c-bb0c-6fe7b6a7fe05",
   "metadata": {},
   "outputs": [
    {
     "name": "stderr",
     "output_type": "stream",
     "text": [
      "                                                                                \r"
     ]
    },
    {
     "name": "stdout",
     "output_type": "stream",
     "text": [
      "+---------------+--------+\n",
      "|customer_city  |count(1)|\n",
      "+---------------+--------+\n",
      "|Hanover        |9       |\n",
      "|Caguas         |4584    |\n",
      "|Corona         |25      |\n",
      "|Tempe          |35      |\n",
      "|Bowling Green  |8       |\n",
      "|Springfield    |3       |\n",
      "|Lawrenceville  |12      |\n",
      "|North Las Vegas|12      |\n",
      "|Palatine       |8       |\n",
      "|Phoenix        |64      |\n",
      "+---------------+--------+\n",
      "only showing top 10 rows\n",
      "\n"
     ]
    }
   ],
   "source": [
    "spark.sql(\"\"\"\n",
    "    select customer_city, count(*) \n",
    "        from customer \n",
    "        group by customer_city\"\"\").show(10,0)"
   ]
  },
  {
   "cell_type": "code",
   "execution_count": null,
   "id": "8909cd3f-e361-4594-85db-938087acef2f",
   "metadata": {},
   "outputs": [],
   "source": []
  },
  {
   "cell_type": "code",
   "execution_count": 32,
   "id": "48da3a3a-f319-48d8-a8bd-8838cf5f32a4",
   "metadata": {},
   "outputs": [],
   "source": [
    "df_group = df_cust.groupby(\"customer_city\").count()"
   ]
  },
  {
   "cell_type": "code",
   "execution_count": 33,
   "id": "9c2b18e0-7d0f-45f6-8839-858a665d2241",
   "metadata": {},
   "outputs": [
    {
     "name": "stderr",
     "output_type": "stream",
     "text": [
      "                                                                                \r"
     ]
    },
    {
     "name": "stdout",
     "output_type": "stream",
     "text": [
      "+---------------+-----+\n",
      "|customer_city  |count|\n",
      "+---------------+-----+\n",
      "|Hanover        |9    |\n",
      "|Caguas         |4584 |\n",
      "|Corona         |25   |\n",
      "|Tempe          |35   |\n",
      "|Bowling Green  |8    |\n",
      "|Springfield    |3    |\n",
      "|Lawrenceville  |12   |\n",
      "|North Las Vegas|12   |\n",
      "|Palatine       |8    |\n",
      "|Phoenix        |64   |\n",
      "+---------------+-----+\n",
      "only showing top 10 rows\n",
      "\n"
     ]
    }
   ],
   "source": [
    "df_group.show(10,0)"
   ]
  },
  {
   "cell_type": "code",
   "execution_count": 35,
   "id": "1763963f-6e02-4efe-a2e8-00f1ec753861",
   "metadata": {},
   "outputs": [
    {
     "name": "stdout",
     "output_type": "stream",
     "text": [
      "== Physical Plan ==\n",
      "*(2) HashAggregate(keys=[customer_city#6], functions=[count(1)])\n",
      "+- Exchange hashpartitioning(customer_city#6, 200), ENSURE_REQUIREMENTS, [id=#548]\n",
      "   +- *(1) HashAggregate(keys=[customer_city#6], functions=[partial_count(1)])\n",
      "      +- *(1) ColumnarToRow\n",
      "         +- FileScan parquet [customer_city#6] Batched: true, DataFilters: [], Format: Parquet, Location: InMemoryFileIndex[hdfs://hdfs-bigdatapedia:9000/user/bigdatapedia/input/customer/parquet], PartitionFilters: [], PushedFilters: [], ReadSchema: struct<customer_city:string>\n",
      "\n",
      "\n"
     ]
    }
   ],
   "source": [
    "spark.sql(\"\"\"\n",
    "    select customer_city, count(*) \n",
    "        from customer \n",
    "        group by customer_city\"\"\").explain()"
   ]
  },
  {
   "cell_type": "code",
   "execution_count": 34,
   "id": "c249f929-93f1-428a-b4b0-967c89277142",
   "metadata": {},
   "outputs": [
    {
     "name": "stdout",
     "output_type": "stream",
     "text": [
      "== Physical Plan ==\n",
      "*(2) HashAggregate(keys=[customer_city#6], functions=[count(1)])\n",
      "+- Exchange hashpartitioning(customer_city#6, 200), ENSURE_REQUIREMENTS, [id=#524]\n",
      "   +- *(1) HashAggregate(keys=[customer_city#6], functions=[partial_count(1)])\n",
      "      +- *(1) ColumnarToRow\n",
      "         +- FileScan parquet [customer_city#6] Batched: true, DataFilters: [], Format: Parquet, Location: InMemoryFileIndex[hdfs://hdfs-bigdatapedia:9000/user/bigdatapedia/input/customer/parquet], PartitionFilters: [], PushedFilters: [], ReadSchema: struct<customer_city:string>\n",
      "\n",
      "\n"
     ]
    }
   ],
   "source": [
    "df_group.explain()"
   ]
  },
  {
   "cell_type": "markdown",
   "id": "1257c778-28c4-42db-9fd2-e5a4fe38f8e1",
   "metadata": {},
   "source": [
    "### UDF"
   ]
  },
  {
   "cell_type": "code",
   "execution_count": 36,
   "id": "4e7af115-dce1-4154-b7d9-59675bf24f2b",
   "metadata": {},
   "outputs": [],
   "source": [
    "def upperConvert(x):\n",
    "    return x.upper()"
   ]
  },
  {
   "cell_type": "code",
   "execution_count": 37,
   "id": "db43885a-55e4-4abe-b291-855f345a5217",
   "metadata": {},
   "outputs": [
    {
     "data": {
      "text/plain": [
       "'HELLO'"
      ]
     },
     "execution_count": 37,
     "metadata": {},
     "output_type": "execute_result"
    }
   ],
   "source": [
    "upperConvert(\"hello\")"
   ]
  },
  {
   "cell_type": "code",
   "execution_count": 38,
   "id": "05941f01-69bf-4a12-b35f-94387639532a",
   "metadata": {},
   "outputs": [],
   "source": [
    "from pyspark.sql.types import StringType"
   ]
  },
  {
   "cell_type": "code",
   "execution_count": 40,
   "id": "41b932ab-9563-477c-9c84-3f6ff75924cc",
   "metadata": {},
   "outputs": [
    {
     "data": {
      "text/plain": [
       "<function __main__.upperConvert(x)>"
      ]
     },
     "execution_count": 40,
     "metadata": {},
     "output_type": "execute_result"
    }
   ],
   "source": [
    "spark.udf.register(\"upper_udf\", upperConvert, StringType())"
   ]
  },
  {
   "cell_type": "code",
   "execution_count": 42,
   "id": "bce701fd-61d9-4a2e-925d-03246f2e627f",
   "metadata": {},
   "outputs": [
    {
     "name": "stderr",
     "output_type": "stream",
     "text": [
      "[Stage 25:>                                                         (0 + 1) / 1]\r"
     ]
    },
    {
     "name": "stdout",
     "output_type": "stream",
     "text": [
      "+--------------+\n",
      "|customer_first|\n",
      "+--------------+\n",
      "|RICHARD       |\n",
      "|MARY          |\n",
      "|ANN           |\n",
      "|MARY          |\n",
      "|ROBERT        |\n",
      "+--------------+\n",
      "only showing top 5 rows\n",
      "\n"
     ]
    },
    {
     "name": "stderr",
     "output_type": "stream",
     "text": [
      "                                                                                \r"
     ]
    }
   ],
   "source": [
    "spark.sql(\"select upper_udf(customer_fname) as customer_first from customer\").show(5,0)"
   ]
  },
  {
   "cell_type": "code",
   "execution_count": null,
   "id": "86d95360-765d-4a7b-b3af-9368f3b6e337",
   "metadata": {},
   "outputs": [],
   "source": []
  }
 ],
 "metadata": {
  "kernelspec": {
   "display_name": "PySpark 3",
   "language": "python",
   "name": "pyspark"
  },
  "language_info": {
   "codemirror_mode": {
    "name": "ipython",
    "version": 3
   },
   "file_extension": ".py",
   "mimetype": "text/x-python",
   "name": "python",
   "nbconvert_exporter": "python",
   "pygments_lexer": "ipython3",
   "version": "3.10.14"
  }
 },
 "nbformat": 4,
 "nbformat_minor": 5
}
