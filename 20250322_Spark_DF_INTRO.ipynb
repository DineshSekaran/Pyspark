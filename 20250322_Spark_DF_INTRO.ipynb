{
 "cells": [
  {
   "cell_type": "markdown",
   "id": "3a59a26d-d78b-4380-b98b-76b35168523e",
   "metadata": {},
   "source": [
    "## RDD VS DATAFRAME"
   ]
  },
  {
   "cell_type": "markdown",
   "id": "ae13ba9d-e10c-4ea6-8e9b-f82369a369b0",
   "metadata": {},
   "source": [
    "### RDD\n",
    "    UnStructured and Structured\n",
    "    JAVA Serializer"
   ]
  },
  {
   "cell_type": "markdown",
   "id": "bd1c2e30-4f0b-4762-abdd-a1b97e2acb6a",
   "metadata": {},
   "source": [
    "### Dataframe aka Schema RDD\n",
    "    Tabular Format\n",
    "    SQL Supported\n",
    "    Schema File Support\n",
    "    Catalyst Optimizer\n",
    "    Java Serilizer / Kryo Serializer"
   ]
  },
  {
   "cell_type": "markdown",
   "id": "e557a512-2fdd-4e4c-a49f-67c1d8fb21d3",
   "metadata": {},
   "source": [
    "## RDD to Dataframe"
   ]
  },
  {
   "cell_type": "code",
   "execution_count": 1,
   "id": "84148056-6e3d-4e32-82d5-bff0ad1bf1f6",
   "metadata": {},
   "outputs": [
    {
     "name": "stderr",
     "output_type": "stream",
     "text": [
      "Setting default log level to \"WARN\".\n",
      "To adjust logging level use sc.setLogLevel(newLevel). For SparkR, use setLogLevel(newLevel).\n"
     ]
    }
   ],
   "source": [
    "from pyspark.sql import SparkSession\n",
    "\n",
    "appName = \"BDP RDD2DF\"\n",
    "\n",
    "# Create Spark session\n",
    "spark = SparkSession.builder \\\n",
    "    .appName(appName) \\\n",
    "    .getOrCreate()\n"
   ]
  },
  {
   "cell_type": "code",
   "execution_count": 5,
   "id": "186e6f0d-5862-4903-a880-3728e173bda3",
   "metadata": {},
   "outputs": [],
   "source": [
    "spark\n",
    "\n",
    "sc = spark.sparkContext"
   ]
  },
  {
   "cell_type": "code",
   "execution_count": 6,
   "id": "40bcaa49-1a77-409f-ac29-fbf30049fd5c",
   "metadata": {},
   "outputs": [
    {
     "data": {
      "text/html": [
       "\n",
       "        <div>\n",
       "            <p><b>SparkContext</b></p>\n",
       "\n",
       "            <p><a href=\"http://jupyter:4040\">Spark UI</a></p>\n",
       "\n",
       "            <dl>\n",
       "              <dt>Version</dt>\n",
       "                <dd><code>v3.1.2</code></dd>\n",
       "              <dt>Master</dt>\n",
       "                <dd><code>yarn</code></dd>\n",
       "              <dt>AppName</dt>\n",
       "                <dd><code>BDP RDD2DF</code></dd>\n",
       "            </dl>\n",
       "        </div>\n",
       "        "
      ],
      "text/plain": [
       "<SparkContext master=yarn appName=BDP RDD2DF>"
      ]
     },
     "execution_count": 6,
     "metadata": {},
     "output_type": "execute_result"
    }
   ],
   "source": [
    "sc"
   ]
  },
  {
   "cell_type": "code",
   "execution_count": 7,
   "id": "59df6177-a45b-4e50-96a5-328e48dbe6b5",
   "metadata": {},
   "outputs": [],
   "source": [
    "li = [\"Bhagya\", \"Dinesh\", \"Gowri\", \"Karthik\", \"Mohamed\", \"Naveen\", \"Ramanadhan\", \"Singaravel\"]\n",
    "\n",
    "rdd = sc.parallelize(li)"
   ]
  },
  {
   "cell_type": "code",
   "execution_count": 8,
   "id": "63cab088-8d64-42a4-b12d-e76dff80b66c",
   "metadata": {},
   "outputs": [
    {
     "data": {
      "text/plain": [
       "pyspark.rdd.RDD"
      ]
     },
     "execution_count": 8,
     "metadata": {},
     "output_type": "execute_result"
    }
   ],
   "source": [
    "type(rdd)"
   ]
  },
  {
   "cell_type": "code",
   "execution_count": 9,
   "id": "f65e0655-2f17-474a-86b0-2385297c4d1b",
   "metadata": {},
   "outputs": [
    {
     "name": "stderr",
     "output_type": "stream",
     "text": [
      "                                                                                \r"
     ]
    },
    {
     "data": {
      "text/plain": [
       "['Bhagya',\n",
       " 'Dinesh',\n",
       " 'Gowri',\n",
       " 'Karthik',\n",
       " 'Mohamed',\n",
       " 'Naveen',\n",
       " 'Ramanadhan',\n",
       " 'Singaravel']"
      ]
     },
     "execution_count": 9,
     "metadata": {},
     "output_type": "execute_result"
    }
   ],
   "source": [
    "rdd.collect()"
   ]
  },
  {
   "cell_type": "code",
   "execution_count": 10,
   "id": "0974fcf9-aafa-413d-af9a-c4c2c7b8f65c",
   "metadata": {},
   "outputs": [
    {
     "name": "stderr",
     "output_type": "stream",
     "text": [
      "                                                                                \r"
     ]
    },
    {
     "data": {
      "text/plain": [
       "8"
      ]
     },
     "execution_count": 10,
     "metadata": {},
     "output_type": "execute_result"
    }
   ],
   "source": [
    "rdd.count()"
   ]
  },
  {
   "cell_type": "code",
   "execution_count": 12,
   "id": "662b3ae3-0f5c-431c-a636-901422b27374",
   "metadata": {},
   "outputs": [],
   "source": [
    "rdd1 = rdd.map(lambda x: (x[0], x))"
   ]
  },
  {
   "cell_type": "code",
   "execution_count": 13,
   "id": "9f9280c6-0d85-4b2a-9ad5-9f4d6a852b10",
   "metadata": {},
   "outputs": [
    {
     "data": {
      "text/plain": [
       "[('B', 'Bhagya'),\n",
       " ('D', 'Dinesh'),\n",
       " ('G', 'Gowri'),\n",
       " ('K', 'Karthik'),\n",
       " ('M', 'Mohamed'),\n",
       " ('N', 'Naveen'),\n",
       " ('R', 'Ramanadhan'),\n",
       " ('S', 'Singaravel')]"
      ]
     },
     "execution_count": 13,
     "metadata": {},
     "output_type": "execute_result"
    }
   ],
   "source": [
    "rdd1.collect()"
   ]
  },
  {
   "cell_type": "code",
   "execution_count": 14,
   "id": "fde8d7e7-1647-4f80-89fd-5faf7ee93b58",
   "metadata": {},
   "outputs": [],
   "source": [
    "from pyspark.sql import Row"
   ]
  },
  {
   "cell_type": "code",
   "execution_count": 22,
   "id": "3ad2eebe-cfee-486f-b821-6172e0636497",
   "metadata": {},
   "outputs": [],
   "source": [
    "rdd2 = rdd.map(lambda x: Row(first=x[0], actual=x))"
   ]
  },
  {
   "cell_type": "code",
   "execution_count": 23,
   "id": "0884be08-c2a6-45d7-8ac6-2687f6732c0e",
   "metadata": {},
   "outputs": [
    {
     "data": {
      "text/plain": [
       "[Row(first='B', actual='Bhagya'),\n",
       " Row(first='D', actual='Dinesh'),\n",
       " Row(first='G', actual='Gowri'),\n",
       " Row(first='K', actual='Karthik'),\n",
       " Row(first='M', actual='Mohamed'),\n",
       " Row(first='N', actual='Naveen'),\n",
       " Row(first='R', actual='Ramanadhan'),\n",
       " Row(first='S', actual='Singaravel')]"
      ]
     },
     "execution_count": 23,
     "metadata": {},
     "output_type": "execute_result"
    }
   ],
   "source": [
    "rdd2.collect()"
   ]
  },
  {
   "cell_type": "code",
   "execution_count": 24,
   "id": "e3769e53-dac3-4815-ad3c-acc13d89adf9",
   "metadata": {},
   "outputs": [],
   "source": [
    "df = spark.createDataFrame(rdd2)"
   ]
  },
  {
   "cell_type": "code",
   "execution_count": 25,
   "id": "9162be9a-3898-46da-9df9-af4249b6271f",
   "metadata": {},
   "outputs": [
    {
     "name": "stderr",
     "output_type": "stream",
     "text": [
      "[Stage 11:>                                                         (0 + 1) / 1]\r"
     ]
    },
    {
     "name": "stdout",
     "output_type": "stream",
     "text": [
      "+-----+----------+\n",
      "|first|    actual|\n",
      "+-----+----------+\n",
      "|    B|    Bhagya|\n",
      "|    D|    Dinesh|\n",
      "|    G|     Gowri|\n",
      "|    K|   Karthik|\n",
      "|    M|   Mohamed|\n",
      "|    N|    Naveen|\n",
      "|    R|Ramanadhan|\n",
      "|    S|Singaravel|\n",
      "+-----+----------+\n",
      "\n"
     ]
    },
    {
     "name": "stderr",
     "output_type": "stream",
     "text": [
      "                                                                                \r"
     ]
    }
   ],
   "source": [
    "df.show()"
   ]
  },
  {
   "cell_type": "code",
   "execution_count": null,
   "id": "747d0a2e-4c53-4f6f-bf4f-ee0feb66b82b",
   "metadata": {},
   "outputs": [],
   "source": []
  },
  {
   "cell_type": "markdown",
   "id": "e75480d5-dace-46ff-b3de-62f408671b2f",
   "metadata": {},
   "source": [
    "# Spark ORC Dataset"
   ]
  },
  {
   "cell_type": "code",
   "execution_count": 73,
   "id": "e23876da-53c1-4fb6-b7b5-04aa88b077ea",
   "metadata": {},
   "outputs": [],
   "source": [
    "!hdfs dfs -mkdir -p /user/bigdatapedia/input/order/orc"
   ]
  },
  {
   "cell_type": "code",
   "execution_count": 74,
   "id": "67bca78b-cd50-4887-a09d-7eefadd6f71b",
   "metadata": {},
   "outputs": [],
   "source": [
    "!hdfs dfs -put /home/bigdatapedia/data/neworders.snappy.orc /user/bigdatapedia/input/order/orc/"
   ]
  },
  {
   "cell_type": "code",
   "execution_count": 75,
   "id": "cdd91f44-f8b2-4c4e-843a-94d05c97bfa3",
   "metadata": {
    "scrolled": true
   },
   "outputs": [
    {
     "name": "stdout",
     "output_type": "stream",
     "text": [
      "Found 1 items\n",
      "-rw-r--r--   3 bigdatapedia supergroup    181.5 K 2025-03-22 05:17 /user/bigdatapedia/input/order/orc/neworders.snappy.orc\n"
     ]
    }
   ],
   "source": [
    "!hdfs dfs -ls -h /user/bigdatapedia/input/order/orc/"
   ]
  },
  {
   "cell_type": "markdown",
   "id": "d959576e-3765-4828-a859-fdf41f7ace0b",
   "metadata": {},
   "source": [
    "DataFrame[order_id: int, order_date: timestamp, order_customer_id: int, order_status: string]"
   ]
  },
  {
   "cell_type": "code",
   "execution_count": 76,
   "id": "79a9b391-a977-4bf9-b0b2-529166281b33",
   "metadata": {},
   "outputs": [],
   "source": [
    "df_order = spark.read.orc(\"/user/bigdatapedia/input/order/orc\")"
   ]
  },
  {
   "cell_type": "code",
   "execution_count": 77,
   "id": "575dcce4-1e56-4fd3-9488-8366f8c95899",
   "metadata": {},
   "outputs": [
    {
     "name": "stderr",
     "output_type": "stream",
     "text": [
      "[Stage 36:>                                                         (0 + 1) / 1]\r"
     ]
    },
    {
     "name": "stdout",
     "output_type": "stream",
     "text": [
      "+--------+-------------------+-----------------+---------------+\n",
      "|order_id|order_date         |order_customer_id|order_status   |\n",
      "+--------+-------------------+-----------------+---------------+\n",
      "|1       |2013-07-25 00:00:00|11599            |CLOSED         |\n",
      "|2       |2013-07-25 00:00:00|256              |PENDING_PAYMENT|\n",
      "|3       |2013-07-25 00:00:00|12111            |COMPLETE       |\n",
      "|4       |2013-07-25 00:00:00|8827             |CLOSED         |\n",
      "|5       |2013-07-25 00:00:00|11318            |COMPLETE       |\n",
      "+--------+-------------------+-----------------+---------------+\n",
      "only showing top 5 rows\n",
      "\n"
     ]
    },
    {
     "name": "stderr",
     "output_type": "stream",
     "text": [
      "                                                                                \r"
     ]
    }
   ],
   "source": [
    "df_order.show(5,0)"
   ]
  },
  {
   "cell_type": "markdown",
   "id": "c47b6866-7db3-442d-a950-d15abe046607",
   "metadata": {},
   "source": [
    "# Spark Parquet Dataset"
   ]
  },
  {
   "cell_type": "code",
   "execution_count": 28,
   "id": "7f75bb6d-7bb3-44e9-8858-76dbf60bdfba",
   "metadata": {},
   "outputs": [],
   "source": [
    "!hdfs dfs -mkdir -p /user/bigdatapedia/input/customer/parquet"
   ]
  },
  {
   "cell_type": "code",
   "execution_count": 29,
   "id": "a36a0108-1aa8-4915-b8ce-6211b6c7c740",
   "metadata": {},
   "outputs": [],
   "source": [
    "!hdfs dfs -put /home/bigdatapedia/data/customer_parq.parquet /user/bigdatapedia/input/customer/parquet/"
   ]
  },
  {
   "cell_type": "code",
   "execution_count": 30,
   "id": "31705709-fb8a-4b7c-93a9-a06f78f0b214",
   "metadata": {},
   "outputs": [
    {
     "name": "stdout",
     "output_type": "stream",
     "text": [
      "Found 1 items\n",
      "-rw-r--r--   3 bigdatapedia supergroup    248.7 K 2025-03-22 04:38 /user/bigdatapedia/input/customer/parquet/customer_parq.parquet\n"
     ]
    }
   ],
   "source": [
    "!hdfs dfs -ls -h /user/bigdatapedia/input/customer/parquet/"
   ]
  },
  {
   "cell_type": "code",
   "execution_count": 31,
   "id": "eefdf50c-a5b5-4818-b5ff-1d10d16e03e5",
   "metadata": {},
   "outputs": [
    {
     "name": "stderr",
     "output_type": "stream",
     "text": [
      "                                                                                \r"
     ]
    }
   ],
   "source": [
    "df_cust = spark.read.parquet(\"/user/bigdatapedia/input/customer/parquet\")"
   ]
  },
  {
   "cell_type": "markdown",
   "id": "c7e17ff3-b5cb-4a0c-bb2e-78764ead92d5",
   "metadata": {},
   "source": [
    "DataFrame[customer_id: int, customer_fname: string, customer_lname: string, customer_email: string, customer_password: string, customer_street: string, customer_city: string, customer_state: string, customer_zipcode: string]"
   ]
  },
  {
   "cell_type": "code",
   "execution_count": 32,
   "id": "3a9089ad-5d62-4d4e-959d-77bb181a53dd",
   "metadata": {},
   "outputs": [
    {
     "name": "stderr",
     "output_type": "stream",
     "text": [
      "[Stage 15:>                                                         (0 + 1) / 1]\r"
     ]
    },
    {
     "name": "stdout",
     "output_type": "stream",
     "text": [
      "+-----------+--------------+--------------+--------------+-----------------+--------------------+-------------+--------------+----------------+\n",
      "|customer_id|customer_fname|customer_lname|customer_email|customer_password|     customer_street|customer_city|customer_state|customer_zipcode|\n",
      "+-----------+--------------+--------------+--------------+-----------------+--------------------+-------------+--------------+----------------+\n",
      "|          1|       Richard|     Hernandez|     XXXXXXXXX|        XXXXXXXXX|  6303 Heather Plaza|  Brownsville|            TX|           78521|\n",
      "|          2|          Mary|       Barrett|     XXXXXXXXX|        XXXXXXXXX|9526 Noble Embers...|    Littleton|            CO|           80126|\n",
      "|          3|           Ann|         Smith|     XXXXXXXXX|        XXXXXXXXX|3422 Blue Pioneer...|       Caguas|            PR|           00725|\n",
      "|          4|          Mary|         Jones|     XXXXXXXXX|        XXXXXXXXX|  8324 Little Common|   San Marcos|            CA|           92069|\n",
      "|          5|        Robert|        Hudson|     XXXXXXXXX|        XXXXXXXXX|10 Crystal River ...|       Caguas|            PR|           00725|\n",
      "|          6|          Mary|         Smith|     XXXXXXXXX|        XXXXXXXXX|3151 Sleepy Quail...|      Passaic|            NJ|           07055|\n",
      "|          7|       Melissa|        Wilcox|     XXXXXXXXX|        XXXXXXXXX|9453 High Concession|       Caguas|            PR|           00725|\n",
      "|          8|         Megan|         Smith|     XXXXXXXXX|        XXXXXXXXX|3047 Foggy Forest...|     Lawrence|            MA|           01841|\n",
      "|          9|          Mary|         Perez|     XXXXXXXXX|        XXXXXXXXX| 3616 Quaking Street|       Caguas|            PR|           00725|\n",
      "|         10|       Melissa|         Smith|     XXXXXXXXX|        XXXXXXXXX|8598 Harvest Beac...|     Stafford|            VA|           22554|\n",
      "|         11|          Mary|       Huffman|     XXXXXXXXX|        XXXXXXXXX|    3169 Stony Woods|       Caguas|            PR|           00725|\n",
      "|         12|   Christopher|         Smith|     XXXXXXXXX|        XXXXXXXXX|5594 Jagged Ember...|  San Antonio|            TX|           78227|\n",
      "|         13|          Mary|       Baldwin|     XXXXXXXXX|        XXXXXXXXX|7922 Iron Oak Gar...|       Caguas|            PR|           00725|\n",
      "|         14|     Katherine|         Smith|     XXXXXXXXX|        XXXXXXXXX|5666 Hazy Pony Sq...|  Pico Rivera|            CA|           90660|\n",
      "|         15|          Jane|          Luna|     XXXXXXXXX|        XXXXXXXXX|    673 Burning Glen|      Fontana|            CA|           92336|\n",
      "|         16|       Tiffany|         Smith|     XXXXXXXXX|        XXXXXXXXX|      6651 Iron Port|       Caguas|            PR|           00725|\n",
      "|         17|          Mary|      Robinson|     XXXXXXXXX|        XXXXXXXXX|     1325 Noble Pike|       Taylor|            MI|           48180|\n",
      "|         18|        Robert|         Smith|     XXXXXXXXX|        XXXXXXXXX|2734 Hazy Butterf...|     Martinez|            CA|           94553|\n",
      "|         19|     Stephanie|      Mitchell|     XXXXXXXXX|        XXXXXXXXX|3543 Red Treasure...|       Caguas|            PR|           00725|\n",
      "|         20|          Mary|         Ellis|     XXXXXXXXX|        XXXXXXXXX|      4703 Old Route|West New York|            NJ|           07093|\n",
      "+-----------+--------------+--------------+--------------+-----------------+--------------------+-------------+--------------+----------------+\n",
      "only showing top 20 rows\n",
      "\n"
     ]
    },
    {
     "name": "stderr",
     "output_type": "stream",
     "text": [
      "                                                                                \r"
     ]
    }
   ],
   "source": [
    "df_cust.show()"
   ]
  },
  {
   "cell_type": "markdown",
   "id": "0bb5d70a-37d6-4d3d-b193-1f33fd1ea7e3",
   "metadata": {},
   "source": [
    "# DF Transformatation/Action"
   ]
  },
  {
   "cell_type": "code",
   "execution_count": null,
   "id": "7cb51832-ae2e-48e5-88ab-50ad5ed091de",
   "metadata": {},
   "outputs": [],
   "source": []
  },
  {
   "cell_type": "markdown",
   "id": "ab621820-f106-4a77-9b14-488a9219607c",
   "metadata": {},
   "source": [
    "## Transformation\n",
    "    Narrow Transformation (No Shuffling)\n",
    "    Wide Transformation (Shuffling)"
   ]
  },
  {
   "cell_type": "markdown",
   "id": "ee993ac3-e47d-48db-b29f-79416d674547",
   "metadata": {},
   "source": [
    "## Narrow Transformation"
   ]
  },
  {
   "cell_type": "markdown",
   "id": "e455464d-259e-4ff5-ae5a-a98a0e795ca0",
   "metadata": {},
   "source": [
    "#### Filter"
   ]
  },
  {
   "cell_type": "code",
   "execution_count": 33,
   "id": "fa41ba62-a466-46ce-bc37-7f014f2e94f9",
   "metadata": {},
   "outputs": [],
   "source": [
    "df_filter = df_cust.filter(\"customer_state = 'TX'\")"
   ]
  },
  {
   "cell_type": "code",
   "execution_count": 34,
   "id": "b00c5139-e3fb-42ad-a0b5-9da1e740f071",
   "metadata": {},
   "outputs": [
    {
     "name": "stderr",
     "output_type": "stream",
     "text": [
      "[Stage 16:>                                                         (0 + 1) / 1]\r"
     ]
    },
    {
     "name": "stdout",
     "output_type": "stream",
     "text": [
      "+-----------+--------------+--------------+--------------+-----------------+--------------------------+-------------+--------------+----------------+\n",
      "|customer_id|customer_fname|customer_lname|customer_email|customer_password|customer_street           |customer_city|customer_state|customer_zipcode|\n",
      "+-----------+--------------+--------------+--------------+-----------------+--------------------------+-------------+--------------+----------------+\n",
      "|1          |Richard       |Hernandez     |XXXXXXXXX     |XXXXXXXXX        |6303 Heather Plaza        |Brownsville  |TX            |78521           |\n",
      "|12         |Christopher   |Smith         |XXXXXXXXX     |XXXXXXXXX        |5594 Jagged Embers By-pass|San Antonio  |TX            |78227           |\n",
      "|29         |Mary          |Humphrey      |XXXXXXXXX     |XXXXXXXXX        |2469 Blue Brook Crossing  |Fort Worth   |TX            |76133           |\n",
      "|82         |Jonathan      |Cook          |XXXXXXXXX     |XXXXXXXXX        |7885 Sleepy Cove          |San Antonio  |TX            |78240           |\n",
      "|86         |John          |Smith         |XXXXXXXXX     |XXXXXXXXX        |8780 Colonial Orchard     |Fort Worth   |TX            |76106           |\n",
      "+-----------+--------------+--------------+--------------+-----------------+--------------------------+-------------+--------------+----------------+\n",
      "only showing top 5 rows\n",
      "\n"
     ]
    },
    {
     "name": "stderr",
     "output_type": "stream",
     "text": [
      "                                                                                \r"
     ]
    }
   ],
   "source": [
    "df_filter.show(5,0)"
   ]
  },
  {
   "cell_type": "markdown",
   "id": "6c01f073-c747-48cb-8fb0-945c8a535799",
   "metadata": {},
   "source": [
    "#### withColumn"
   ]
  },
  {
   "cell_type": "code",
   "execution_count": 42,
   "id": "365486fe-6457-4ae1-8745-03185006e1a4",
   "metadata": {},
   "outputs": [],
   "source": [
    "from pyspark.sql.functions import concat_ws"
   ]
  },
  {
   "cell_type": "code",
   "execution_count": 48,
   "id": "88cb8d93-432a-448f-ba3e-ff706cc41eee",
   "metadata": {},
   "outputs": [],
   "source": [
    "df_wc = df_cust.withColumn(\"cust_fullname\", concat_ws(\" \", df_cust[\"customer_fname\"], df_cust[\"customer_lname\"]))"
   ]
  },
  {
   "cell_type": "code",
   "execution_count": 49,
   "id": "a25625d6-0295-4c7d-9afd-ed900aa4c647",
   "metadata": {},
   "outputs": [
    {
     "name": "stdout",
     "output_type": "stream",
     "text": [
      "+-----------+--------------+--------------+--------------+-----------------+-----------------------+-------------+--------------+----------------+-----------------+\n",
      "|customer_id|customer_fname|customer_lname|customer_email|customer_password|customer_street        |customer_city|customer_state|customer_zipcode|cust_fullname    |\n",
      "+-----------+--------------+--------------+--------------+-----------------+-----------------------+-------------+--------------+----------------+-----------------+\n",
      "|1          |Richard       |Hernandez     |XXXXXXXXX     |XXXXXXXXX        |6303 Heather Plaza     |Brownsville  |TX            |78521           |Richard Hernandez|\n",
      "|2          |Mary          |Barrett       |XXXXXXXXX     |XXXXXXXXX        |9526 Noble Embers Ridge|Littleton    |CO            |80126           |Mary Barrett     |\n",
      "|3          |Ann           |Smith         |XXXXXXXXX     |XXXXXXXXX        |3422 Blue Pioneer Bend |Caguas       |PR            |00725           |Ann Smith        |\n",
      "|4          |Mary          |Jones         |XXXXXXXXX     |XXXXXXXXX        |8324 Little Common     |San Marcos   |CA            |92069           |Mary Jones       |\n",
      "|5          |Robert        |Hudson        |XXXXXXXXX     |XXXXXXXXX        |10 Crystal River Mall  |Caguas       |PR            |00725           |Robert Hudson    |\n",
      "+-----------+--------------+--------------+--------------+-----------------+-----------------------+-------------+--------------+----------------+-----------------+\n",
      "only showing top 5 rows\n",
      "\n"
     ]
    }
   ],
   "source": [
    "df_wc.show(5,0)"
   ]
  },
  {
   "cell_type": "markdown",
   "id": "95b47df5-efcc-427c-9f87-58eacebd83e0",
   "metadata": {},
   "source": [
    "#### Select"
   ]
  },
  {
   "cell_type": "code",
   "execution_count": 50,
   "id": "8a3598ce-dddc-4568-bcc3-8ef590578b5c",
   "metadata": {},
   "outputs": [],
   "source": [
    "df_select = df_cust.select(\"customer_id\", \"customer_fname\", \"customer_lname\", \"customer_city\", \"customer_state\")"
   ]
  },
  {
   "cell_type": "code",
   "execution_count": 51,
   "id": "4476b7aa-3dc9-4d7e-9fc9-235f75c9efd1",
   "metadata": {},
   "outputs": [
    {
     "name": "stdout",
     "output_type": "stream",
     "text": [
      "+-----------+--------------+--------------+-------------+--------------+\n",
      "|customer_id|customer_fname|customer_lname|customer_city|customer_state|\n",
      "+-----------+--------------+--------------+-------------+--------------+\n",
      "|1          |Richard       |Hernandez     |Brownsville  |TX            |\n",
      "|2          |Mary          |Barrett       |Littleton    |CO            |\n",
      "|3          |Ann           |Smith         |Caguas       |PR            |\n",
      "|4          |Mary          |Jones         |San Marcos   |CA            |\n",
      "|5          |Robert        |Hudson        |Caguas       |PR            |\n",
      "+-----------+--------------+--------------+-------------+--------------+\n",
      "only showing top 5 rows\n",
      "\n"
     ]
    }
   ],
   "source": [
    "df_select.show(5,0)"
   ]
  },
  {
   "cell_type": "markdown",
   "id": "7d7eb0a8-dae3-44e8-95bb-e4b7012cc3c0",
   "metadata": {},
   "source": [
    "#### withColumnRenamed"
   ]
  },
  {
   "cell_type": "code",
   "execution_count": 57,
   "id": "3b352b4e-ac25-4d64-9cf0-7765a4bd68cf",
   "metadata": {},
   "outputs": [],
   "source": [
    "df_wcr = df_cust.withColumnRenamed(\"customer_fname\", \"first_name\")"
   ]
  },
  {
   "cell_type": "code",
   "execution_count": 58,
   "id": "79364435-3657-4b7b-a3fc-c92a79df48f0",
   "metadata": {},
   "outputs": [
    {
     "name": "stdout",
     "output_type": "stream",
     "text": [
      "+-----------+----------+--------------+--------------+-----------------+-----------------------+-------------+--------------+----------------+\n",
      "|customer_id|first_name|customer_lname|customer_email|customer_password|customer_street        |customer_city|customer_state|customer_zipcode|\n",
      "+-----------+----------+--------------+--------------+-----------------+-----------------------+-------------+--------------+----------------+\n",
      "|1          |Richard   |Hernandez     |XXXXXXXXX     |XXXXXXXXX        |6303 Heather Plaza     |Brownsville  |TX            |78521           |\n",
      "|2          |Mary      |Barrett       |XXXXXXXXX     |XXXXXXXXX        |9526 Noble Embers Ridge|Littleton    |CO            |80126           |\n",
      "|3          |Ann       |Smith         |XXXXXXXXX     |XXXXXXXXX        |3422 Blue Pioneer Bend |Caguas       |PR            |00725           |\n",
      "|4          |Mary      |Jones         |XXXXXXXXX     |XXXXXXXXX        |8324 Little Common     |San Marcos   |CA            |92069           |\n",
      "|5          |Robert    |Hudson        |XXXXXXXXX     |XXXXXXXXX        |10 Crystal River Mall  |Caguas       |PR            |00725           |\n",
      "+-----------+----------+--------------+--------------+-----------------+-----------------------+-------------+--------------+----------------+\n",
      "only showing top 5 rows\n",
      "\n"
     ]
    }
   ],
   "source": [
    "df_wcr.show(5,0)"
   ]
  },
  {
   "cell_type": "markdown",
   "id": "09d1325a-f9bc-4c8b-b0c7-b06acc1a90d8",
   "metadata": {},
   "source": [
    "#### Where"
   ]
  },
  {
   "cell_type": "code",
   "execution_count": 59,
   "id": "d40ee2f3-fabd-4abd-a6ff-4d44f7349ed7",
   "metadata": {},
   "outputs": [],
   "source": [
    "df_where = df_cust.where(\"customer_state = 'CA'\")"
   ]
  },
  {
   "cell_type": "code",
   "execution_count": 60,
   "id": "d41a3bf6-54d6-4a31-83ec-77a2ed273254",
   "metadata": {},
   "outputs": [
    {
     "name": "stdout",
     "output_type": "stream",
     "text": [
      "+-----------+--------------+--------------+--------------+-----------------+--------------------------+-------------+--------------+----------------+\n",
      "|customer_id|customer_fname|customer_lname|customer_email|customer_password|customer_street           |customer_city|customer_state|customer_zipcode|\n",
      "+-----------+--------------+--------------+--------------+-----------------+--------------------------+-------------+--------------+----------------+\n",
      "|4          |Mary          |Jones         |XXXXXXXXX     |XXXXXXXXX        |8324 Little Common        |San Marcos   |CA            |92069           |\n",
      "|14         |Katherine     |Smith         |XXXXXXXXX     |XXXXXXXXX        |5666 Hazy Pony Square     |Pico Rivera  |CA            |90660           |\n",
      "|15         |Jane          |Luna          |XXXXXXXXX     |XXXXXXXXX        |673 Burning Glen          |Fontana      |CA            |92336           |\n",
      "|18         |Robert        |Smith         |XXXXXXXXX     |XXXXXXXXX        |2734 Hazy Butterfly Circle|Martinez     |CA            |94553           |\n",
      "|35         |Margaret      |Wright        |XXXXXXXXX     |XXXXXXXXX        |9456 Sleepy Jetty         |Oceanside    |CA            |92056           |\n",
      "+-----------+--------------+--------------+--------------+-----------------+--------------------------+-------------+--------------+----------------+\n",
      "only showing top 5 rows\n",
      "\n"
     ]
    }
   ],
   "source": [
    "df_where.show(5,0)"
   ]
  },
  {
   "cell_type": "markdown",
   "id": "651322a0-987f-4e92-8f7d-f5260189f19f",
   "metadata": {},
   "source": [
    "#### Drop"
   ]
  },
  {
   "cell_type": "code",
   "execution_count": 61,
   "id": "6f2e2e3c-961f-40cf-b726-cd816f80d815",
   "metadata": {},
   "outputs": [],
   "source": [
    "df_drop = df_cust.drop(\"customer_email\", \"customer_password\")"
   ]
  },
  {
   "cell_type": "code",
   "execution_count": 62,
   "id": "8b1446b0-52cb-4da1-b258-53f8007a5974",
   "metadata": {},
   "outputs": [
    {
     "name": "stdout",
     "output_type": "stream",
     "text": [
      "+-----------+--------------+--------------+-----------------------+-------------+--------------+----------------+\n",
      "|customer_id|customer_fname|customer_lname|customer_street        |customer_city|customer_state|customer_zipcode|\n",
      "+-----------+--------------+--------------+-----------------------+-------------+--------------+----------------+\n",
      "|1          |Richard       |Hernandez     |6303 Heather Plaza     |Brownsville  |TX            |78521           |\n",
      "|2          |Mary          |Barrett       |9526 Noble Embers Ridge|Littleton    |CO            |80126           |\n",
      "|3          |Ann           |Smith         |3422 Blue Pioneer Bend |Caguas       |PR            |00725           |\n",
      "|4          |Mary          |Jones         |8324 Little Common     |San Marcos   |CA            |92069           |\n",
      "|5          |Robert        |Hudson        |10 Crystal River Mall  |Caguas       |PR            |00725           |\n",
      "+-----------+--------------+--------------+-----------------------+-------------+--------------+----------------+\n",
      "only showing top 5 rows\n",
      "\n"
     ]
    }
   ],
   "source": [
    "df_drop.show(5,0)"
   ]
  },
  {
   "cell_type": "markdown",
   "id": "b8e3ae08-cb82-4aa1-aabe-19a39209bff9",
   "metadata": {},
   "source": [
    "#### Schema"
   ]
  },
  {
   "cell_type": "code",
   "execution_count": 63,
   "id": "f6f83249-18e6-4f8a-bc99-8661fd00c632",
   "metadata": {},
   "outputs": [
    {
     "name": "stdout",
     "output_type": "stream",
     "text": [
      "root\n",
      " |-- customer_id: integer (nullable = true)\n",
      " |-- customer_fname: string (nullable = true)\n",
      " |-- customer_lname: string (nullable = true)\n",
      " |-- customer_email: string (nullable = true)\n",
      " |-- customer_password: string (nullable = true)\n",
      " |-- customer_street: string (nullable = true)\n",
      " |-- customer_city: string (nullable = true)\n",
      " |-- customer_state: string (nullable = true)\n",
      " |-- customer_zipcode: string (nullable = true)\n",
      "\n"
     ]
    }
   ],
   "source": [
    "df_cust.printSchema()"
   ]
  },
  {
   "cell_type": "markdown",
   "id": "fb1ca990-f46a-498f-9a45-57a1a1da0870",
   "metadata": {},
   "source": [
    "#### Types"
   ]
  },
  {
   "cell_type": "code",
   "execution_count": 65,
   "id": "b19e2a0d-bf8b-4337-9576-96b510e4e271",
   "metadata": {},
   "outputs": [
    {
     "data": {
      "text/plain": [
       "[('customer_id', 'int'),\n",
       " ('customer_fname', 'string'),\n",
       " ('customer_lname', 'string'),\n",
       " ('customer_email', 'string'),\n",
       " ('customer_password', 'string'),\n",
       " ('customer_street', 'string'),\n",
       " ('customer_city', 'string'),\n",
       " ('customer_state', 'string'),\n",
       " ('customer_zipcode', 'string')]"
      ]
     },
     "execution_count": 65,
     "metadata": {},
     "output_type": "execute_result"
    }
   ],
   "source": [
    "df_cust.dtypes"
   ]
  },
  {
   "cell_type": "code",
   "execution_count": 66,
   "id": "e4eb6278-ec56-4e0f-8a28-2d8054c992e6",
   "metadata": {},
   "outputs": [
    {
     "data": {
      "text/plain": [
       "('customer_id', 'int')"
      ]
     },
     "execution_count": 66,
     "metadata": {},
     "output_type": "execute_result"
    }
   ],
   "source": [
    "df_cust.dtypes[0]"
   ]
  },
  {
   "cell_type": "markdown",
   "id": "9ae041f4-fd1a-46e1-b644-69e764735c4c",
   "metadata": {},
   "source": [
    "#### Cast"
   ]
  },
  {
   "cell_type": "code",
   "execution_count": 68,
   "id": "400ec3ba-9959-4e46-a27d-c2a4b7d37adf",
   "metadata": {},
   "outputs": [],
   "source": [
    "from pyspark.sql.types import StringType, IntegerType"
   ]
  },
  {
   "cell_type": "code",
   "execution_count": 71,
   "id": "759b4fe9-7981-49e7-a3d0-f482763f4968",
   "metadata": {},
   "outputs": [
    {
     "name": "stdout",
     "output_type": "stream",
     "text": [
      "root\n",
      " |-- customer_id: integer (nullable = true)\n",
      " |-- customer_fname: string (nullable = true)\n",
      " |-- customer_lname: string (nullable = true)\n",
      " |-- customer_email: string (nullable = true)\n",
      " |-- customer_password: string (nullable = true)\n",
      " |-- customer_street: string (nullable = true)\n",
      " |-- customer_city: string (nullable = true)\n",
      " |-- customer_state: string (nullable = true)\n",
      " |-- customer_zipcode: string (nullable = true)\n",
      "\n"
     ]
    }
   ],
   "source": [
    "df_cust.printSchema()"
   ]
  },
  {
   "cell_type": "code",
   "execution_count": 69,
   "id": "4f9d76a9-0295-4128-a9f8-ca131118235d",
   "metadata": {},
   "outputs": [],
   "source": [
    "df_cast = df_cust.select(\"customer_id\", \"customer_fname\", \"customer_lname\", \"customer_city\", \"customer_state\", \n",
    "                         df_cust[\"customer_zipcode\"].cast(IntegerType()))"
   ]
  },
  {
   "cell_type": "code",
   "execution_count": 70,
   "id": "f841b2f7-b5ef-451a-8879-de433cd6f898",
   "metadata": {},
   "outputs": [
    {
     "name": "stdout",
     "output_type": "stream",
     "text": [
      "root\n",
      " |-- customer_id: integer (nullable = true)\n",
      " |-- customer_fname: string (nullable = true)\n",
      " |-- customer_lname: string (nullable = true)\n",
      " |-- customer_city: string (nullable = true)\n",
      " |-- customer_state: string (nullable = true)\n",
      " |-- customer_zipcode: integer (nullable = true)\n",
      "\n"
     ]
    }
   ],
   "source": [
    "df_cast.printSchema()"
   ]
  },
  {
   "cell_type": "code",
   "execution_count": 72,
   "id": "3e056100-c10b-4ef3-9d8c-c27264a1db23",
   "metadata": {},
   "outputs": [
    {
     "name": "stdout",
     "output_type": "stream",
     "text": [
      "+-----------+--------------+--------------+-------------+--------------+----------------+\n",
      "|customer_id|customer_fname|customer_lname|customer_city|customer_state|customer_zipcode|\n",
      "+-----------+--------------+--------------+-------------+--------------+----------------+\n",
      "|1          |Richard       |Hernandez     |Brownsville  |TX            |78521           |\n",
      "|2          |Mary          |Barrett       |Littleton    |CO            |80126           |\n",
      "|3          |Ann           |Smith         |Caguas       |PR            |725             |\n",
      "|4          |Mary          |Jones         |San Marcos   |CA            |92069           |\n",
      "|5          |Robert        |Hudson        |Caguas       |PR            |725             |\n",
      "+-----------+--------------+--------------+-------------+--------------+----------------+\n",
      "only showing top 5 rows\n",
      "\n"
     ]
    }
   ],
   "source": [
    "df_cast.show(5,0)"
   ]
  },
  {
   "cell_type": "markdown",
   "id": "3b79044a-da05-4075-89dd-9295136c33f6",
   "metadata": {},
   "source": [
    "#### Union / UnionAll"
   ]
  },
  {
   "cell_type": "code",
   "execution_count": 91,
   "id": "153f295b-3d7f-4838-ae04-9aed63ed3888",
   "metadata": {},
   "outputs": [
    {
     "name": "stdout",
     "output_type": "stream",
     "text": [
      "+-----------+--------------+--------------+--------------+-----------------+--------------------+-------------+--------------+----------------+\n",
      "|customer_id|customer_fname|customer_lname|customer_email|customer_password|     customer_street|customer_city|customer_state|customer_zipcode|\n",
      "+-----------+--------------+--------------+--------------+-----------------+--------------------+-------------+--------------+----------------+\n",
      "|          1|       Richard|     Hernandez|     XXXXXXXXX|        XXXXXXXXX|  6303 Heather Plaza|  Brownsville|            TX|           78521|\n",
      "|          2|          Mary|       Barrett|     XXXXXXXXX|        XXXXXXXXX|9526 Noble Embers...|    Littleton|            CO|           80126|\n",
      "|          3|           Ann|         Smith|     XXXXXXXXX|        XXXXXXXXX|3422 Blue Pioneer...|       Caguas|            PR|           00725|\n",
      "+-----------+--------------+--------------+--------------+-----------------+--------------------+-------------+--------------+----------------+\n",
      "\n"
     ]
    }
   ],
   "source": [
    "df_limit.show()"
   ]
  },
  {
   "cell_type": "code",
   "execution_count": 92,
   "id": "a67d5594-fd8c-448b-90a5-052e9c8e9c6b",
   "metadata": {},
   "outputs": [],
   "source": [
    "df_union = df_limit.union(df_limit)"
   ]
  },
  {
   "cell_type": "code",
   "execution_count": 93,
   "id": "46d55f19-59aa-4478-a9ff-9e008de01676",
   "metadata": {},
   "outputs": [
    {
     "name": "stdout",
     "output_type": "stream",
     "text": [
      "+-----------+--------------+--------------+--------------+-----------------+--------------------+-------------+--------------+----------------+\n",
      "|customer_id|customer_fname|customer_lname|customer_email|customer_password|     customer_street|customer_city|customer_state|customer_zipcode|\n",
      "+-----------+--------------+--------------+--------------+-----------------+--------------------+-------------+--------------+----------------+\n",
      "|          1|       Richard|     Hernandez|     XXXXXXXXX|        XXXXXXXXX|  6303 Heather Plaza|  Brownsville|            TX|           78521|\n",
      "|          2|          Mary|       Barrett|     XXXXXXXXX|        XXXXXXXXX|9526 Noble Embers...|    Littleton|            CO|           80126|\n",
      "|          3|           Ann|         Smith|     XXXXXXXXX|        XXXXXXXXX|3422 Blue Pioneer...|       Caguas|            PR|           00725|\n",
      "|          1|       Richard|     Hernandez|     XXXXXXXXX|        XXXXXXXXX|  6303 Heather Plaza|  Brownsville|            TX|           78521|\n",
      "|          2|          Mary|       Barrett|     XXXXXXXXX|        XXXXXXXXX|9526 Noble Embers...|    Littleton|            CO|           80126|\n",
      "|          3|           Ann|         Smith|     XXXXXXXXX|        XXXXXXXXX|3422 Blue Pioneer...|       Caguas|            PR|           00725|\n",
      "+-----------+--------------+--------------+--------------+-----------------+--------------------+-------------+--------------+----------------+\n",
      "\n"
     ]
    }
   ],
   "source": [
    "df_union.show()"
   ]
  },
  {
   "cell_type": "code",
   "execution_count": 94,
   "id": "1ea81fe8-5989-45a9-a812-3b7595a08684",
   "metadata": {},
   "outputs": [],
   "source": [
    "df_unionall = df_limit.unionAll(df_limit)"
   ]
  },
  {
   "cell_type": "code",
   "execution_count": 95,
   "id": "5ad5ca48-92b4-4fa3-ba79-aac9ced6d8b8",
   "metadata": {},
   "outputs": [
    {
     "name": "stdout",
     "output_type": "stream",
     "text": [
      "+-----------+--------------+--------------+--------------+-----------------+--------------------+-------------+--------------+----------------+\n",
      "|customer_id|customer_fname|customer_lname|customer_email|customer_password|     customer_street|customer_city|customer_state|customer_zipcode|\n",
      "+-----------+--------------+--------------+--------------+-----------------+--------------------+-------------+--------------+----------------+\n",
      "|          1|       Richard|     Hernandez|     XXXXXXXXX|        XXXXXXXXX|  6303 Heather Plaza|  Brownsville|            TX|           78521|\n",
      "|          2|          Mary|       Barrett|     XXXXXXXXX|        XXXXXXXXX|9526 Noble Embers...|    Littleton|            CO|           80126|\n",
      "|          3|           Ann|         Smith|     XXXXXXXXX|        XXXXXXXXX|3422 Blue Pioneer...|       Caguas|            PR|           00725|\n",
      "|          1|       Richard|     Hernandez|     XXXXXXXXX|        XXXXXXXXX|  6303 Heather Plaza|  Brownsville|            TX|           78521|\n",
      "|          2|          Mary|       Barrett|     XXXXXXXXX|        XXXXXXXXX|9526 Noble Embers...|    Littleton|            CO|           80126|\n",
      "|          3|           Ann|         Smith|     XXXXXXXXX|        XXXXXXXXX|3422 Blue Pioneer...|       Caguas|            PR|           00725|\n",
      "+-----------+--------------+--------------+--------------+-----------------+--------------------+-------------+--------------+----------------+\n",
      "\n"
     ]
    }
   ],
   "source": [
    "df_unionall.show()"
   ]
  },
  {
   "cell_type": "markdown",
   "id": "2b35ffa5-ae41-4307-81ea-8c3374b05c74",
   "metadata": {},
   "source": [
    "#### Fillna"
   ]
  },
  {
   "cell_type": "code",
   "execution_count": 113,
   "id": "7ea387c4-7437-4baa-b8c0-dc6efdd5886a",
   "metadata": {},
   "outputs": [],
   "source": [
    "df_wc = df_cust.select(\"customer_id\", \"customer_fname\", \"customer_lname\", \"customer_city\", \"customer_state\") \\\n",
    "                .withColumn(\"cust_fullname\",  (df_cust[\"customer_fname\"]+df_cust[\"customer_lname\"]))"
   ]
  },
  {
   "cell_type": "code",
   "execution_count": 128,
   "id": "8b6cac59-11fd-4e48-944a-488ef2a49f55",
   "metadata": {},
   "outputs": [
    {
     "name": "stdout",
     "output_type": "stream",
     "text": [
      "+-----------+--------------+--------------+-------------+--------------+-------------+\n",
      "|customer_id|customer_fname|customer_lname|customer_city|customer_state|cust_fullname|\n",
      "+-----------+--------------+--------------+-------------+--------------+-------------+\n",
      "|1          |Richard       |Hernandez     |Brownsville  |TX            |null         |\n",
      "|2          |Mary          |Barrett       |Littleton    |CO            |null         |\n",
      "|3          |Ann           |Smith         |Caguas       |PR            |null         |\n",
      "|4          |Mary          |Jones         |San Marcos   |CA            |null         |\n",
      "|5          |Robert        |Hudson        |Caguas       |PR            |null         |\n",
      "+-----------+--------------+--------------+-------------+--------------+-------------+\n",
      "only showing top 5 rows\n",
      "\n"
     ]
    }
   ],
   "source": [
    "df_wc.show(5,0)"
   ]
  },
  {
   "cell_type": "code",
   "execution_count": 134,
   "id": "d284e068-1017-400b-940d-f2f28f56720d",
   "metadata": {},
   "outputs": [],
   "source": [
    "df_fill = df_wc.na.fill({'cust_fullname': 0, 'customer_state': 'TX1'})"
   ]
  },
  {
   "cell_type": "code",
   "execution_count": 135,
   "id": "fa7af15a-0990-41d2-aa2c-7657e7c81073",
   "metadata": {},
   "outputs": [
    {
     "name": "stdout",
     "output_type": "stream",
     "text": [
      "+-----------+--------------+--------------+-------------+--------------+-------------+\n",
      "|customer_id|customer_fname|customer_lname|customer_city|customer_state|cust_fullname|\n",
      "+-----------+--------------+--------------+-------------+--------------+-------------+\n",
      "|1          |Richard       |Hernandez     |Brownsville  |TX            |0.0          |\n",
      "|2          |Mary          |Barrett       |Littleton    |CO            |0.0          |\n",
      "|3          |Ann           |Smith         |Caguas       |PR            |0.0          |\n",
      "|4          |Mary          |Jones         |San Marcos   |CA            |0.0          |\n",
      "|5          |Robert        |Hudson        |Caguas       |PR            |0.0          |\n",
      "+-----------+--------------+--------------+-------------+--------------+-------------+\n",
      "only showing top 5 rows\n",
      "\n"
     ]
    }
   ],
   "source": [
    "df_fill.show(5,0)"
   ]
  },
  {
   "cell_type": "code",
   "execution_count": null,
   "id": "15ee3d20-036f-497d-a54d-e62d116d3254",
   "metadata": {},
   "outputs": [],
   "source": []
  },
  {
   "cell_type": "markdown",
   "id": "10d06803-2218-42eb-a992-63295ca8c982",
   "metadata": {},
   "source": [
    "## Wide Transformation"
   ]
  },
  {
   "cell_type": "markdown",
   "id": "6d0235c5-73aa-4cdf-b651-a79363c05902",
   "metadata": {},
   "source": [
    "#### Group By"
   ]
  },
  {
   "cell_type": "code",
   "execution_count": 36,
   "id": "f92be8f0-e7af-4823-9a77-dcfcc4c59d15",
   "metadata": {},
   "outputs": [],
   "source": [
    "df_group = df_cust.groupby(\"customer_city\").count()"
   ]
  },
  {
   "cell_type": "code",
   "execution_count": 37,
   "id": "64e2490b-e9e9-4d93-a13d-3a8eaf828d65",
   "metadata": {},
   "outputs": [
    {
     "name": "stderr",
     "output_type": "stream",
     "text": [
      "                                                                                \r"
     ]
    },
    {
     "name": "stdout",
     "output_type": "stream",
     "text": [
      "+---------------+-----+\n",
      "|customer_city  |count|\n",
      "+---------------+-----+\n",
      "|Hanover        |9    |\n",
      "|Caguas         |4584 |\n",
      "|Corona         |25   |\n",
      "|Tempe          |35   |\n",
      "|Bowling Green  |8    |\n",
      "|Springfield    |3    |\n",
      "|Lawrenceville  |12   |\n",
      "|North Las Vegas|12   |\n",
      "|Palatine       |8    |\n",
      "|Phoenix        |64   |\n",
      "+---------------+-----+\n",
      "only showing top 10 rows\n",
      "\n"
     ]
    }
   ],
   "source": [
    "df_group.show(10,0)"
   ]
  },
  {
   "cell_type": "code",
   "execution_count": null,
   "id": "bf9a6562-6a66-4790-9a05-95f4eb3d7907",
   "metadata": {},
   "outputs": [],
   "source": []
  },
  {
   "cell_type": "markdown",
   "id": "3d9c94b8-8077-4c55-9431-160ac36a0f9d",
   "metadata": {},
   "source": [
    "#### Limit"
   ]
  },
  {
   "cell_type": "code",
   "execution_count": 55,
   "id": "a078320b-d1c5-4e44-8fff-9b97c62e2569",
   "metadata": {},
   "outputs": [],
   "source": [
    "df_limit = df_cust.limit(3)"
   ]
  },
  {
   "cell_type": "code",
   "execution_count": 56,
   "id": "077d4e18-ff56-45d3-8adb-16883b338422",
   "metadata": {},
   "outputs": [
    {
     "name": "stdout",
     "output_type": "stream",
     "text": [
      "+-----------+--------------+--------------+--------------+-----------------+--------------------+-------------+--------------+----------------+\n",
      "|customer_id|customer_fname|customer_lname|customer_email|customer_password|     customer_street|customer_city|customer_state|customer_zipcode|\n",
      "+-----------+--------------+--------------+--------------+-----------------+--------------------+-------------+--------------+----------------+\n",
      "|          1|       Richard|     Hernandez|     XXXXXXXXX|        XXXXXXXXX|  6303 Heather Plaza|  Brownsville|            TX|           78521|\n",
      "|          2|          Mary|       Barrett|     XXXXXXXXX|        XXXXXXXXX|9526 Noble Embers...|    Littleton|            CO|           80126|\n",
      "|          3|           Ann|         Smith|     XXXXXXXXX|        XXXXXXXXX|3422 Blue Pioneer...|       Caguas|            PR|           00725|\n",
      "+-----------+--------------+--------------+--------------+-----------------+--------------------+-------------+--------------+----------------+\n",
      "\n"
     ]
    }
   ],
   "source": [
    "df_limit.show()"
   ]
  },
  {
   "cell_type": "markdown",
   "id": "988e2478-c57d-4ded-9833-05604043ee9f",
   "metadata": {},
   "source": [
    "#### Join - Inner"
   ]
  },
  {
   "cell_type": "code",
   "execution_count": 78,
   "id": "c81b75b3-322c-4b88-9a14-53568c91775c",
   "metadata": {},
   "outputs": [
    {
     "name": "stdout",
     "output_type": "stream",
     "text": [
      "root\n",
      " |-- customer_id: integer (nullable = true)\n",
      " |-- customer_fname: string (nullable = true)\n",
      " |-- customer_lname: string (nullable = true)\n",
      " |-- customer_email: string (nullable = true)\n",
      " |-- customer_password: string (nullable = true)\n",
      " |-- customer_street: string (nullable = true)\n",
      " |-- customer_city: string (nullable = true)\n",
      " |-- customer_state: string (nullable = true)\n",
      " |-- customer_zipcode: string (nullable = true)\n",
      "\n"
     ]
    }
   ],
   "source": [
    "df_cust.printSchema()"
   ]
  },
  {
   "cell_type": "code",
   "execution_count": 79,
   "id": "30016a43-e94d-47dc-bf5a-99af48ab3db9",
   "metadata": {},
   "outputs": [
    {
     "name": "stdout",
     "output_type": "stream",
     "text": [
      "root\n",
      " |-- order_id: integer (nullable = true)\n",
      " |-- order_date: timestamp (nullable = true)\n",
      " |-- order_customer_id: integer (nullable = true)\n",
      " |-- order_status: string (nullable = true)\n",
      "\n"
     ]
    }
   ],
   "source": [
    "df_order.printSchema()"
   ]
  },
  {
   "cell_type": "code",
   "execution_count": 82,
   "id": "e7a133d9-9373-460a-b0cf-bb2d56a1fdce",
   "metadata": {},
   "outputs": [],
   "source": [
    "df_join = df_cust.join(df_order, df_cust[\"customer_id\"] == df_order[\"order_customer_id\"], \"inner\")"
   ]
  },
  {
   "cell_type": "code",
   "execution_count": 83,
   "id": "6742fcef-2160-40c8-8c43-376c5df6cada",
   "metadata": {},
   "outputs": [
    {
     "name": "stderr",
     "output_type": "stream",
     "text": [
      "[Stage 42:>                                                         (0 + 1) / 1]\r"
     ]
    },
    {
     "name": "stdout",
     "output_type": "stream",
     "text": [
      "+-----------+--------------+--------------+--------------+-----------------+----------------+-------------+--------------+----------------+--------+-------------------+-----------------+------------+\n",
      "|customer_id|customer_fname|customer_lname|customer_email|customer_password|customer_street |customer_city|customer_state|customer_zipcode|order_id|order_date         |order_customer_id|order_status|\n",
      "+-----------+--------------+--------------+--------------+-----------------+----------------+-------------+--------------+----------------+--------+-------------------+-----------------+------------+\n",
      "|148        |Stephanie     |Richards      |XXXXXXXXX     |XXXXXXXXX        |245 Lost Way    |Caguas       |PR            |00725           |15061   |2013-10-28 00:00:00|148              |CLOSED      |\n",
      "|148        |Stephanie     |Richards      |XXXXXXXXX     |XXXXXXXXX        |245 Lost Way    |Caguas       |PR            |00725           |59569   |2013-10-03 00:00:00|148              |COMPLETE    |\n",
      "|148        |Stephanie     |Richards      |XXXXXXXXX     |XXXXXXXXX        |245 Lost Way    |Caguas       |PR            |00725           |61124   |2013-12-02 00:00:00|148              |CLOSED      |\n",
      "|463        |Harry         |Smith         |XXXXXXXXX     |XXXXXXXXX        |7598 Little Maze|Caguas       |PR            |00725           |6857    |2013-09-06 00:00:00|463              |COMPLETE    |\n",
      "|463        |Harry         |Smith         |XXXXXXXXX     |XXXXXXXXX        |7598 Little Maze|Caguas       |PR            |00725           |14181   |2013-10-22 00:00:00|463              |COMPLETE    |\n",
      "+-----------+--------------+--------------+--------------+-----------------+----------------+-------------+--------------+----------------+--------+-------------------+-----------------+------------+\n",
      "only showing top 5 rows\n",
      "\n"
     ]
    },
    {
     "name": "stderr",
     "output_type": "stream",
     "text": [
      "                                                                                \r"
     ]
    }
   ],
   "source": [
    "df_join.show(5,0)"
   ]
  },
  {
   "cell_type": "code",
   "execution_count": null,
   "id": "f46a509c-f14e-42bc-8e9e-ffd6295519c3",
   "metadata": {},
   "outputs": [],
   "source": []
  },
  {
   "cell_type": "markdown",
   "id": "89fc069d-14a9-4c19-9812-5b28a2f00226",
   "metadata": {},
   "source": [
    "#### Join - Left"
   ]
  },
  {
   "cell_type": "code",
   "execution_count": 85,
   "id": "d57cb564-bce5-418d-bece-523bda548db7",
   "metadata": {},
   "outputs": [],
   "source": [
    "df_leftjoin = df_cust.join(df_order, df_cust[\"customer_id\"] == df_order[\"order_customer_id\"], \"left\")"
   ]
  },
  {
   "cell_type": "code",
   "execution_count": 86,
   "id": "b8365397-94c0-4f47-bc26-bb4b67bbc44f",
   "metadata": {},
   "outputs": [
    {
     "name": "stderr",
     "output_type": "stream",
     "text": [
      "[Stage 44:>                                                         (0 + 1) / 1]\r"
     ]
    },
    {
     "name": "stdout",
     "output_type": "stream",
     "text": [
      "+-----------+--------------+--------------+--------------+-----------------+----------------+-------------+--------------+----------------+--------+-------------------+-----------------+------------+\n",
      "|customer_id|customer_fname|customer_lname|customer_email|customer_password|customer_street |customer_city|customer_state|customer_zipcode|order_id|order_date         |order_customer_id|order_status|\n",
      "+-----------+--------------+--------------+--------------+-----------------+----------------+-------------+--------------+----------------+--------+-------------------+-----------------+------------+\n",
      "|148        |Stephanie     |Richards      |XXXXXXXXX     |XXXXXXXXX        |245 Lost Way    |Caguas       |PR            |00725           |15061   |2013-10-28 00:00:00|148              |CLOSED      |\n",
      "|148        |Stephanie     |Richards      |XXXXXXXXX     |XXXXXXXXX        |245 Lost Way    |Caguas       |PR            |00725           |59569   |2013-10-03 00:00:00|148              |COMPLETE    |\n",
      "|148        |Stephanie     |Richards      |XXXXXXXXX     |XXXXXXXXX        |245 Lost Way    |Caguas       |PR            |00725           |61124   |2013-12-02 00:00:00|148              |CLOSED      |\n",
      "|463        |Harry         |Smith         |XXXXXXXXX     |XXXXXXXXX        |7598 Little Maze|Caguas       |PR            |00725           |6857    |2013-09-06 00:00:00|463              |COMPLETE    |\n",
      "|463        |Harry         |Smith         |XXXXXXXXX     |XXXXXXXXX        |7598 Little Maze|Caguas       |PR            |00725           |14181   |2013-10-22 00:00:00|463              |COMPLETE    |\n",
      "+-----------+--------------+--------------+--------------+-----------------+----------------+-------------+--------------+----------------+--------+-------------------+-----------------+------------+\n",
      "only showing top 5 rows\n",
      "\n"
     ]
    },
    {
     "name": "stderr",
     "output_type": "stream",
     "text": [
      "                                                                                \r"
     ]
    }
   ],
   "source": [
    "df_leftjoin.show(5,0)"
   ]
  },
  {
   "cell_type": "markdown",
   "id": "fe0236e0-dd6f-451d-aca5-a5cb715574a1",
   "metadata": {},
   "source": [
    "#### Join - Right"
   ]
  },
  {
   "cell_type": "code",
   "execution_count": 87,
   "id": "79dc8dd3-7aff-490c-a8f0-02aef1ab2a08",
   "metadata": {},
   "outputs": [],
   "source": [
    "df_rightjoin = df_cust.join(df_order, df_cust[\"customer_id\"] == df_order[\"order_customer_id\"], \"right\")"
   ]
  },
  {
   "cell_type": "code",
   "execution_count": 88,
   "id": "be837cfd-63c6-479d-9685-9962d8390ea9",
   "metadata": {},
   "outputs": [
    {
     "name": "stderr",
     "output_type": "stream",
     "text": [
      "[Stage 46:>                                                         (0 + 1) / 1]\r"
     ]
    },
    {
     "name": "stdout",
     "output_type": "stream",
     "text": [
      "+-----------+--------------+--------------+--------------+-----------------+----------------+-------------+--------------+----------------+--------+-------------------+-----------------+------------+\n",
      "|customer_id|customer_fname|customer_lname|customer_email|customer_password|customer_street |customer_city|customer_state|customer_zipcode|order_id|order_date         |order_customer_id|order_status|\n",
      "+-----------+--------------+--------------+--------------+-----------------+----------------+-------------+--------------+----------------+--------+-------------------+-----------------+------------+\n",
      "|148        |Stephanie     |Richards      |XXXXXXXXX     |XXXXXXXXX        |245 Lost Way    |Caguas       |PR            |00725           |15061   |2013-10-28 00:00:00|148              |CLOSED      |\n",
      "|148        |Stephanie     |Richards      |XXXXXXXXX     |XXXXXXXXX        |245 Lost Way    |Caguas       |PR            |00725           |59569   |2013-10-03 00:00:00|148              |COMPLETE    |\n",
      "|148        |Stephanie     |Richards      |XXXXXXXXX     |XXXXXXXXX        |245 Lost Way    |Caguas       |PR            |00725           |61124   |2013-12-02 00:00:00|148              |CLOSED      |\n",
      "|463        |Harry         |Smith         |XXXXXXXXX     |XXXXXXXXX        |7598 Little Maze|Caguas       |PR            |00725           |6857    |2013-09-06 00:00:00|463              |COMPLETE    |\n",
      "|463        |Harry         |Smith         |XXXXXXXXX     |XXXXXXXXX        |7598 Little Maze|Caguas       |PR            |00725           |14181   |2013-10-22 00:00:00|463              |COMPLETE    |\n",
      "+-----------+--------------+--------------+--------------+-----------------+----------------+-------------+--------------+----------------+--------+-------------------+-----------------+------------+\n",
      "only showing top 5 rows\n",
      "\n"
     ]
    },
    {
     "name": "stderr",
     "output_type": "stream",
     "text": [
      "                                                                                \r"
     ]
    }
   ],
   "source": [
    "df_rightjoin.show(5,0)"
   ]
  },
  {
   "cell_type": "markdown",
   "id": "1eace35a-7fed-41c4-9e6a-d4e795b6c781",
   "metadata": {},
   "source": [
    "#### Join - full"
   ]
  },
  {
   "cell_type": "code",
   "execution_count": 89,
   "id": "69b49065-cb2d-4a70-8723-9f505ac4a574",
   "metadata": {},
   "outputs": [],
   "source": [
    "df_fulljoin = df_cust.join(df_order, df_cust[\"customer_id\"] == df_order[\"order_customer_id\"], \"full\")"
   ]
  },
  {
   "cell_type": "code",
   "execution_count": 90,
   "id": "2c008230-3895-44a8-b09b-6687f48adc85",
   "metadata": {},
   "outputs": [
    {
     "name": "stderr",
     "output_type": "stream",
     "text": [
      "[Stage 50:>                                                         (0 + 1) / 1]\r"
     ]
    },
    {
     "name": "stdout",
     "output_type": "stream",
     "text": [
      "+-----------+--------------+--------------+--------------+-----------------+----------------+-------------+--------------+----------------+--------+-------------------+-----------------+------------+\n",
      "|customer_id|customer_fname|customer_lname|customer_email|customer_password|customer_street |customer_city|customer_state|customer_zipcode|order_id|order_date         |order_customer_id|order_status|\n",
      "+-----------+--------------+--------------+--------------+-----------------+----------------+-------------+--------------+----------------+--------+-------------------+-----------------+------------+\n",
      "|148        |Stephanie     |Richards      |XXXXXXXXX     |XXXXXXXXX        |245 Lost Way    |Caguas       |PR            |00725           |15061   |2013-10-28 00:00:00|148              |CLOSED      |\n",
      "|148        |Stephanie     |Richards      |XXXXXXXXX     |XXXXXXXXX        |245 Lost Way    |Caguas       |PR            |00725           |59569   |2013-10-03 00:00:00|148              |COMPLETE    |\n",
      "|148        |Stephanie     |Richards      |XXXXXXXXX     |XXXXXXXXX        |245 Lost Way    |Caguas       |PR            |00725           |61124   |2013-12-02 00:00:00|148              |CLOSED      |\n",
      "|463        |Harry         |Smith         |XXXXXXXXX     |XXXXXXXXX        |7598 Little Maze|Caguas       |PR            |00725           |6857    |2013-09-06 00:00:00|463              |COMPLETE    |\n",
      "|463        |Harry         |Smith         |XXXXXXXXX     |XXXXXXXXX        |7598 Little Maze|Caguas       |PR            |00725           |14181   |2013-10-22 00:00:00|463              |COMPLETE    |\n",
      "+-----------+--------------+--------------+--------------+-----------------+----------------+-------------+--------------+----------------+--------+-------------------+-----------------+------------+\n",
      "only showing top 5 rows\n",
      "\n"
     ]
    },
    {
     "name": "stderr",
     "output_type": "stream",
     "text": [
      "                                                                                \r"
     ]
    }
   ],
   "source": [
    "df_fulljoin.show(5,0)"
   ]
  },
  {
   "cell_type": "markdown",
   "id": "e239a3f5-d229-4ee9-8d95-4e1f79f1b18c",
   "metadata": {},
   "source": [
    "#### Distinct"
   ]
  },
  {
   "cell_type": "code",
   "execution_count": 96,
   "id": "1bedfb53-3637-4503-9626-c84dc9f3da0a",
   "metadata": {},
   "outputs": [],
   "source": [
    "df_distinct = df_unionall.distinct()"
   ]
  },
  {
   "cell_type": "code",
   "execution_count": 97,
   "id": "52d7e9fd-2dd3-420a-98e8-b1dd753381fd",
   "metadata": {},
   "outputs": [
    {
     "name": "stderr",
     "output_type": "stream",
     "text": [
      "[Stage 60:====================================================> (194 + 2) / 200]\r"
     ]
    },
    {
     "name": "stdout",
     "output_type": "stream",
     "text": [
      "+-----------+--------------+--------------+--------------+-----------------+--------------------+-------------+--------------+----------------+\n",
      "|customer_id|customer_fname|customer_lname|customer_email|customer_password|     customer_street|customer_city|customer_state|customer_zipcode|\n",
      "+-----------+--------------+--------------+--------------+-----------------+--------------------+-------------+--------------+----------------+\n",
      "|          2|          Mary|       Barrett|     XXXXXXXXX|        XXXXXXXXX|9526 Noble Embers...|    Littleton|            CO|           80126|\n",
      "|          3|           Ann|         Smith|     XXXXXXXXX|        XXXXXXXXX|3422 Blue Pioneer...|       Caguas|            PR|           00725|\n",
      "|          1|       Richard|     Hernandez|     XXXXXXXXX|        XXXXXXXXX|  6303 Heather Plaza|  Brownsville|            TX|           78521|\n",
      "+-----------+--------------+--------------+--------------+-----------------+--------------------+-------------+--------------+----------------+\n",
      "\n"
     ]
    },
    {
     "name": "stderr",
     "output_type": "stream",
     "text": [
      "                                                                                \r"
     ]
    }
   ],
   "source": [
    "df_distinct.show()"
   ]
  },
  {
   "cell_type": "markdown",
   "id": "2d149172-65be-4464-8222-1b59c5d637d9",
   "metadata": {},
   "source": [
    "#### DropDuplicate"
   ]
  },
  {
   "cell_type": "code",
   "execution_count": 104,
   "id": "2221c814-7b4a-480d-859f-9695683a42f9",
   "metadata": {},
   "outputs": [],
   "source": [
    "df_dedup = df_unionall.drop_duplicates([\"customer_state\"])"
   ]
  },
  {
   "cell_type": "code",
   "execution_count": 139,
   "id": "117cb0d9-6dcf-4c8f-9719-b4fc63014eaa",
   "metadata": {},
   "outputs": [
    {
     "name": "stderr",
     "output_type": "stream",
     "text": [
      "[Stage 99:====================================================> (196 + 2) / 200]\r"
     ]
    },
    {
     "name": "stdout",
     "output_type": "stream",
     "text": [
      "+-----------+--------------+--------------+--------------+-----------------+--------------------+-------------+--------------+----------------+\n",
      "|customer_id|customer_fname|customer_lname|customer_email|customer_password|     customer_street|customer_city|customer_state|customer_zipcode|\n",
      "+-----------+--------------+--------------+--------------+-----------------+--------------------+-------------+--------------+----------------+\n",
      "|          1|       Richard|     Hernandez|     XXXXXXXXX|        XXXXXXXXX|  6303 Heather Plaza|  Brownsville|            TX|           78521|\n",
      "|          2|          Mary|       Barrett|     XXXXXXXXX|        XXXXXXXXX|9526 Noble Embers...|    Littleton|            CO|           80126|\n",
      "|          3|           Ann|         Smith|     XXXXXXXXX|        XXXXXXXXX|3422 Blue Pioneer...|       Caguas|            PR|           00725|\n",
      "+-----------+--------------+--------------+--------------+-----------------+--------------------+-------------+--------------+----------------+\n",
      "\n"
     ]
    },
    {
     "name": "stderr",
     "output_type": "stream",
     "text": [
      "                                                                                \r"
     ]
    }
   ],
   "source": [
    "df_dedup.show()"
   ]
  },
  {
   "cell_type": "markdown",
   "id": "2a3526bb-6029-48a1-a456-900a1f01954a",
   "metadata": {},
   "source": [
    "#### Sort"
   ]
  },
  {
   "cell_type": "code",
   "execution_count": 136,
   "id": "4dadb399-2f50-4de1-9669-6fee9c511b90",
   "metadata": {},
   "outputs": [
    {
     "name": "stderr",
     "output_type": "stream",
     "text": [
      "[Stage 89:=========================================>            (152 + 2) / 200]\r"
     ]
    },
    {
     "name": "stdout",
     "output_type": "stream",
     "text": [
      "+-----------+--------------+--------------+--------------+-----------------+--------------------+-------------+--------------+----------------+\n",
      "|customer_id|customer_fname|customer_lname|customer_email|customer_password|     customer_street|customer_city|customer_state|customer_zipcode|\n",
      "+-----------+--------------+--------------+--------------+-----------------+--------------------+-------------+--------------+----------------+\n",
      "|          2|          Mary|       Barrett|     XXXXXXXXX|        XXXXXXXXX|9526 Noble Embers...|    Littleton|            CO|           80126|\n",
      "|          3|           Ann|         Smith|     XXXXXXXXX|        XXXXXXXXX|3422 Blue Pioneer...|       Caguas|            PR|           00725|\n",
      "|          1|       Richard|     Hernandez|     XXXXXXXXX|        XXXXXXXXX|  6303 Heather Plaza|  Brownsville|            TX|           78521|\n",
      "+-----------+--------------+--------------+--------------+-----------------+--------------------+-------------+--------------+----------------+\n",
      "\n"
     ]
    },
    {
     "name": "stderr",
     "output_type": "stream",
     "text": [
      "                                                                                \r"
     ]
    }
   ],
   "source": [
    "df_distinct.show()"
   ]
  },
  {
   "cell_type": "code",
   "execution_count": 137,
   "id": "acb8bcf6-de49-46f5-8034-9e637b76dc7c",
   "metadata": {},
   "outputs": [],
   "source": [
    "df_sort = df_distinct.sort(\"customer_id\")"
   ]
  },
  {
   "cell_type": "code",
   "execution_count": 138,
   "id": "83d906ee-17b0-4878-bbe7-5f80b2e1ca35",
   "metadata": {},
   "outputs": [
    {
     "name": "stderr",
     "output_type": "stream",
     "text": [
      "[Stage 95:====================================================> (194 + 2) / 200]\r"
     ]
    },
    {
     "name": "stdout",
     "output_type": "stream",
     "text": [
      "+-----------+--------------+--------------+--------------+-----------------+--------------------+-------------+--------------+----------------+\n",
      "|customer_id|customer_fname|customer_lname|customer_email|customer_password|     customer_street|customer_city|customer_state|customer_zipcode|\n",
      "+-----------+--------------+--------------+--------------+-----------------+--------------------+-------------+--------------+----------------+\n",
      "|          1|       Richard|     Hernandez|     XXXXXXXXX|        XXXXXXXXX|  6303 Heather Plaza|  Brownsville|            TX|           78521|\n",
      "|          2|          Mary|       Barrett|     XXXXXXXXX|        XXXXXXXXX|9526 Noble Embers...|    Littleton|            CO|           80126|\n",
      "|          3|           Ann|         Smith|     XXXXXXXXX|        XXXXXXXXX|3422 Blue Pioneer...|       Caguas|            PR|           00725|\n",
      "+-----------+--------------+--------------+--------------+-----------------+--------------------+-------------+--------------+----------------+\n",
      "\n"
     ]
    },
    {
     "name": "stderr",
     "output_type": "stream",
     "text": [
      "                                                                                \r"
     ]
    }
   ],
   "source": [
    "df_sort.show()"
   ]
  },
  {
   "cell_type": "code",
   "execution_count": null,
   "id": "b8eb9e8a-ae46-415d-96d0-b24de29868ea",
   "metadata": {},
   "outputs": [],
   "source": []
  }
 ],
 "metadata": {
  "kernelspec": {
   "display_name": "PySpark 3",
   "language": "python",
   "name": "pyspark"
  },
  "language_info": {
   "codemirror_mode": {
    "name": "ipython",
    "version": 3
   },
   "file_extension": ".py",
   "mimetype": "text/x-python",
   "name": "python",
   "nbconvert_exporter": "python",
   "pygments_lexer": "ipython3",
   "version": "3.10.14"
  }
 },
 "nbformat": 4,
 "nbformat_minor": 5
}
